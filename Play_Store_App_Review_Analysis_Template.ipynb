{
  "nbformat": 4,
  "nbformat_minor": 0,
  "metadata": {
    "colab": {
      "private_outputs": true,
      "provenance": [],
      "collapsed_sections": [
        "HhfV-JJviCcP",
        "nA9Y7ga8ng1Z",
        "dauF4eBmngu3",
        "GF8Ens_Soomf",
        "OH-pJp9IphqM",
        "JcMwzZxoAimU",
        "gCX9965dhzqZ",
        "gIfDvo9L0UH2"
      ],
      "include_colab_link": true
    },
    "kernelspec": {
      "name": "python3",
      "display_name": "Python 3"
    },
    "language_info": {
      "name": "python"
    }
  },
  "cells": [
    {
      "cell_type": "markdown",
      "metadata": {
        "id": "view-in-github",
        "colab_type": "text"
      },
      "source": [
        "<a href=\"https://colab.research.google.com/github/Deesplore/Exploratory_Data_Analysis/blob/main/Play_Store_App_Review_Analysis_Template.ipynb\" target=\"_parent\"><img src=\"https://colab.research.google.com/assets/colab-badge.svg\" alt=\"Open In Colab\"/></a>"
      ]
    },
    {
      "cell_type": "markdown",
      "source": [
        "# **Project Name**    - \n",
        "\n"
      ],
      "metadata": {
        "id": "vncDsAP0Gaoa"
      }
    },
    {
      "cell_type": "markdown",
      "source": [
        "##### **Project Type**    - EDA(Play Store app Review analysis)\n",
        "##### **Contribution**    - Individual\n",
        "##### **Team Member 1 -** - Prabhakar Subhash Harijan\n"
      ],
      "metadata": {
        "id": "beRrZCGUAJYm"
      }
    },
    {
      "cell_type": "markdown",
      "source": [
        "# **Project Summary -**"
      ],
      "metadata": {
        "id": "FJNUwmbgGyua"
      }
    },
    {
      "cell_type": "markdown",
      "source": [
        "We can summarize our project with the followung important notes, Top Category to be downloaded is Family 1717 and following the lowest to \n",
        "be of Beauty 42, Family got the highest number of the unpaid users while the count of the paid users is also high for family category ,Averagely, all the categories got a rating of 4 and above....Social is the category that got the maximum review which is 2186788 and the event got the lowest 35875. Family is the category which has the highest no. unpaid apps to be downloaded it is 1560 while the count for paid apps is 157 the lowest category is beauty, event and parenting. Mostly the maximum number of content to be downloaded is for too tools category and more than 80% of the apps are free which is 670 while the count for paid is 63 only. Maximum number of installs happening in the communication category it is nearly 78671796 while the lowest happens for medical 139611. Top Genres in the given data is Tools(count of 732) and the lowest is racing(count of 93). Tools are the given genre that has more paid as well as unpaid customers in accordance of buying app from play store...while the lowest are many as of such is puzzle:education nearly it is 0. Action got the highest rating counts around 349 in all aspects while the lowest one is Word which got barely 27. Adventure;Action& Adventure Genre got the maximum reviews around 3087739. Tools genre has the highest number of unpaid customers(669) whereas the paid customers are nearly equal for Medical(64),Personalization(65) and Tools(63) genres. Tools are the genres that are downloaded the most by people and subsequently the size of the downloaded content in the dataset following entertainment and then education. Communication Genre got the maximum number of installs around 7861796.5 which is huge. Nearly the entire dataset has the data of people who didn't pay anything for the app nearly 93.1% whereas 6.9% only have downloaded paid apps. The count for the unpaid apps is 8275 whereas for paid it is barely 611 people.. Nearly average rating in the dataset is 4.5 but the count is huge (1187391) and nearly 2 people have given the average lowest rating of 1.0. 2010 is the only year that got only 1 review for a rating of 4.2 whereas the graph went on increasing from 2010 to 2018.. July month got the highest no of reviews 369 for an average rating of 4.4. People preference is small size of application the count for 1 MB size is 1472 whereas it keeps on decreasing as the size of the app increases. In 2010 applications downloaded were 100000 whereas as the year moved it went on increasing and in 2018 it nearly touched 105 Billion downloads . Nearly 68.6% of the apps are downloaded in 2018 and 16.4% in 2017 which we can see and boost in downloads. But the scenario is all the apps are free to count to be 24134270 and barely people paid for the apps count to be 192375 ........... July is the month in which maximum downloads took place and the count is 67 Billion approx. and then a downfall happens went on to 57.27 Billion. going nearly to 1.14 Billion in December. In August month no. for free apps downloaded by people hit all-time high of 44360389 whereas for paid it was just 87172 and the lowest was in September with (1843326,13184). The highest content rating is given by the Everyone category (100.222 Billion) whereas the lowest was from the unrated category (50 Thousand). Nealy 8275 apps prices were kept at 0.. whereas as the prices were added to the apps the number of d1. Currently, people are using 1 the most around 4687 and the number goes on decreasing version0 around 1000 installs and the count of 4 people. 1 got the maximum installs around 103.58 billion and can be clearly seen as the most preferred current version to be used. Currently people are using 1 the most around 4687 and the number goes on decreasing version0 around 1000 installs and the count of 4 people. 1 got the maximum installs of around 103.58 billion and can be clearly seen as the most prefered current version to be used. Andriod ver 4 got the maximum number of installs around 139.4069 billion whereas the lowest is for version 8 around 1.51 millions.. Nearly 76.3% of the installs happened for ver 4 and then the lowest for ver 8 around 0.1%. Android ver apps got the maximum download and 21692710 were unpiad apps while 148539 were the paid apps.... Our sentiment_subjectivity is more between 0.4 to 0.6 . Positive review  is around 64.11%, negative reviews  are around 22.099% and neutral is around 13.781% in our dataset. Positive reviews count as 23998 while negative is around 8271 neutral falls at 5158. Nearly Sentiment polarity for the free apps is around 99% and for paid it can be seen at around 1%. Category game got the highest number of sentiments for positive it is 9.98k, negative 6542 and neutral is around 748.. . Genres action got the highest posiitve sentiments 4003, negative 1985 while neutral is 291.. Andriod ver 4 got the highest number of positive sentiments 31962, negative sentiments 13082 and it also got neutral counts as 5549. Current ver 1 got the highest positive sentiments 19159,negative sentiments \n",
        " around 6838 and neutral around 3104. Everyone (content rating type) got the maximum positive 28847, negative  11269  and neutral 5097 sentiments. Game got the highest number of translated reviews which is 17270 while the lowest is for comics around 80. Genre action got the highest reviews translated around 6279 while the lowest is educational:brain games which is 3. Everyone got the maximum translated reviews of around 45213. "
      ],
      "metadata": {
        "id": "F6v_1wHtG2nS"
      }
    },
    {
      "cell_type": "markdown",
      "source": [
        "# **GitHub Link -**"
      ],
      "metadata": {
        "id": "w6K7xa23Elo4"
      }
    },
    {
      "cell_type": "markdown",
      "source": [
        "[https://github.com/Deesplore](https://)"
      ],
      "metadata": {
        "id": "h1o69JH3Eqqn"
      }
    },
    {
      "cell_type": "markdown",
      "source": [
        "# **Problem Statement**\n"
      ],
      "metadata": {
        "id": "yQaldy8SH6Dl"
      }
    },
    {
      "cell_type": "markdown",
      "source": [
        "## <b> The Play Store apps data has enormous potential to drive app-making businesses to success. Actionable insights can be drawn for developers to work on and capture the Android market. </b>\n",
        "\n",
        "## <b> Each app (row) has values for catergory, rating, size, and more. Another dataset contains customer reviews of the android apps.</b>\n",
        "\n",
        "## <b> Explore and analyze the data to discover key factors responsible for app engagement and success. </b>"
      ],
      "metadata": {
        "id": "DpeJGUA3kjGy"
      }
    },
    {
      "cell_type": "markdown",
      "source": [
        "#### **Define Your Business Objective?**"
      ],
      "metadata": {
        "id": "PH-0ReGfmX4f"
      }
    },
    {
      "cell_type": "markdown",
      "source": [
        "My objective is to understand the trends of the application downloaded from the play store and the count for which type do people are interested (Free or Paid).\n",
        "Increase in application download happened in which following category and which genre, People for which age group had downloaded the apps more in the following years, so the makers can get the clear knowledge about the production of apps."
      ],
      "metadata": {
        "id": "PhDvGCAqmjP1"
      }
    },
    {
      "cell_type": "markdown",
      "source": [
        "# **General Guidelines** : -  "
      ],
      "metadata": {
        "id": "mDgbUHAGgjLW"
      }
    },
    {
      "cell_type": "markdown",
      "source": [
        "1.   Well-structured, formatted, and commented code is required. \n",
        "2.   Exception Handling, Production Grade Code & Deployment Ready Code will be a plus. Those students will be awarded some additional credits. \n",
        "     \n",
        "     The additional credits will have advantages over other students during Star Student selection.\n",
        "       \n",
        "             [ Note: - Deployment Ready Code is defined as, the whole .ipynb notebook should be executable in one go\n",
        "                       without a single error logged. ]\n",
        "\n",
        "3.   Each and every logic should have proper comments.\n",
        "4. You may add as many number of charts you want. Make Sure for each and every chart the following format should be answered.\n",
        "        \n",
        "\n",
        "```\n",
        "# Chart visualization code\n",
        "```\n",
        "            \n",
        "\n",
        "*   Why did you pick the specific chart?\n",
        "*   What is/are the insight(s) found from the chart?\n",
        "* Will the gained insights help creating a positive business impact? \n",
        "Are there any insights that lead to negative growth? Justify with specific reason.\n",
        "\n",
        "5. You have to create at least 20 logical & meaningful charts having important insights.\n",
        "\n",
        "\n",
        "[ Hints : - Do the Vizualization in  a structured way while following \"UBM\" Rule. \n",
        "\n",
        "U - Univariate Analysis,\n",
        "\n",
        "B - Bivariate Analysis (Numerical - Categorical, Numerical - Numerical, Categorical - Categorical)\n",
        "\n",
        "M - Multivariate Analysis\n",
        " ]\n",
        "\n",
        "\n",
        "\n"
      ],
      "metadata": {
        "id": "ZrxVaUj-hHfC"
      }
    },
    {
      "cell_type": "markdown",
      "source": [
        "# ***Let's Begin !***"
      ],
      "metadata": {
        "id": "O_i_v8NEhb9l"
      }
    },
    {
      "cell_type": "markdown",
      "source": [
        "## ***1. Know Your Data***"
      ],
      "metadata": {
        "id": "HhfV-JJviCcP"
      }
    },
    {
      "cell_type": "markdown",
      "source": [
        "### Import Libraries"
      ],
      "metadata": {
        "id": "Y3lxredqlCYt"
      }
    },
    {
      "cell_type": "code",
      "source": [
        "# Import Libraries\n",
        "import pandas as pd                         # for creating dataframes to analyze\n",
        "import numpy as np                          # for math\n",
        "import matplotlib.pyplot as plt\n",
        "import mpl_toolkits as mplot3d              # visualization purpose\n",
        "import seaborn as sns                       # visualiation purpose\n",
        "import plotly.express as px                 # for visualization \n",
        "from matplotlib import rcParams             # for visualization \n",
        "from datetime import datetime, timezone\n",
        "import missingno as msno \n",
        "import seaborn as sns\n",
        "import matplotlib.pyplot as plt\n",
        "from matplotlib.patheffects import PathPatchEffect, SimpleLineShadow, Normal\n",
        "import matplotlib.patheffects as path_effects\n",
        "                 \n",
        "import warnings\n",
        "warnings.filterwarnings('ignore')"
      ],
      "metadata": {
        "id": "M8Vqi-pPk-HR"
      },
      "execution_count": null,
      "outputs": []
    },
    {
      "cell_type": "markdown",
      "source": [
        "### Dataset Loading"
      ],
      "metadata": {
        "id": "3RnN4peoiCZX"
      }
    },
    {
      "cell_type": "code",
      "source": [
        "# Load Dataset\n",
        "from google.colab import drive\n",
        "drive.mount('/content/drive')"
      ],
      "metadata": {
        "id": "4CkvbW_SlZ_R"
      },
      "execution_count": null,
      "outputs": []
    },
    {
      "cell_type": "code",
      "source": [
        "apps_=pd.read_csv('/content/drive/MyDrive/Play Store Data.csv')\n",
        "users_=pd.read_csv('/content/drive/MyDrive/User Reviews.csv')"
      ],
      "metadata": {
        "id": "C-O4606bYLFG"
      },
      "execution_count": null,
      "outputs": []
    },
    {
      "cell_type": "markdown",
      "source": [
        "### Dataset First View"
      ],
      "metadata": {
        "id": "x71ZqKXriCWQ"
      }
    },
    {
      "cell_type": "code",
      "source": [
        "# Dataset First Look\n",
        "apps_.head()"
      ],
      "metadata": {
        "id": "LWNFOSvLl09H"
      },
      "execution_count": null,
      "outputs": []
    },
    {
      "cell_type": "code",
      "source": [
        "users_.head()"
      ],
      "metadata": {
        "id": "ypc3nq9uYS9x"
      },
      "execution_count": null,
      "outputs": []
    },
    {
      "cell_type": "markdown",
      "source": [
        "### Dataset Rows & Columns count"
      ],
      "metadata": {
        "id": "7hBIi_osiCS2"
      }
    },
    {
      "cell_type": "code",
      "source": [
        "# Dataset Rows & Columns count\n",
        "apps_.shape"
      ],
      "metadata": {
        "id": "Kllu7SJgmLij"
      },
      "execution_count": null,
      "outputs": []
    },
    {
      "cell_type": "code",
      "source": [
        "users_.shape"
      ],
      "metadata": {
        "id": "TNduQoTFxsy3"
      },
      "execution_count": null,
      "outputs": []
    },
    {
      "cell_type": "markdown",
      "source": [
        "### Dataset Information"
      ],
      "metadata": {
        "id": "JlHwYmJAmNHm"
      }
    },
    {
      "cell_type": "code",
      "source": [
        "# Dataset Info\n",
        "apps_.info()"
      ],
      "metadata": {
        "id": "e9hRXRi6meOf"
      },
      "execution_count": null,
      "outputs": []
    },
    {
      "cell_type": "code",
      "source": [
        "users_.info()"
      ],
      "metadata": {
        "id": "tf5eKaIzxza1"
      },
      "execution_count": null,
      "outputs": []
    },
    {
      "cell_type": "markdown",
      "source": [
        "#### Duplicate Values"
      ],
      "metadata": {
        "id": "35m5QtbWiB9F"
      }
    },
    {
      "cell_type": "code",
      "source": [
        "# Dataset Duplicate Value Count\n",
        "apps_.duplicated().sum()"
      ],
      "metadata": {
        "id": "1sLdpKYkmox0"
      },
      "execution_count": null,
      "outputs": []
    },
    {
      "cell_type": "code",
      "source": [
        "users_.duplicated().sum()"
      ],
      "metadata": {
        "id": "lGyY00orypR9"
      },
      "execution_count": null,
      "outputs": []
    },
    {
      "cell_type": "markdown",
      "source": [
        "#### Missing Values/Null Values"
      ],
      "metadata": {
        "id": "PoPl-ycgm1ru"
      }
    },
    {
      "cell_type": "code",
      "source": [
        "# Missing Values/Null Values Count\n",
        "apps_.isnull().sum()"
      ],
      "metadata": {
        "id": "GgHWkxvamxVg"
      },
      "execution_count": null,
      "outputs": []
    },
    {
      "cell_type": "code",
      "source": [
        "users_.isnull().sum()"
      ],
      "metadata": {
        "id": "hX5Imbu4zCUr"
      },
      "execution_count": null,
      "outputs": []
    },
    {
      "cell_type": "code",
      "source": [
        "# Visualizing the missing values\n",
        "msno.matrix(apps_)"
      ],
      "metadata": {
        "id": "3q5wnI3om9sJ"
      },
      "execution_count": null,
      "outputs": []
    },
    {
      "cell_type": "code",
      "source": [
        "msno.bar(users_)"
      ],
      "metadata": {
        "id": "JUZMLdaVzQb6"
      },
      "execution_count": null,
      "outputs": []
    },
    {
      "cell_type": "markdown",
      "source": [
        "### What did you know about your dataset?"
      ],
      "metadata": {
        "id": "H0kj-8xxnORC"
      }
    },
    {
      "cell_type": "markdown",
      "source": [
        "Before starting lets through some light on android......."
      ],
      "metadata": {
        "id": "j1J7hCKAv_AX"
      }
    },
    {
      "cell_type": "markdown",
      "source": [
        "'''what is andriod ,....... An operating system ..... I guess so in simpler version ..... can we say this as a The platform that’s changing what mobile can do.\n",
        "   guess so ....... yess \n",
        "\n",
        "  so..\n",
        "  But what excatly does a male robot means....It is called \" Andriod\"..........\n",
        "  So we can say that our everyday work is being controlled or monitored by     robot isn't that would be fair\n",
        "\n",
        "  let see some statistics........\n",
        "\n",
        "   1. As of February 2022, Android OS has a 70.97% mobile operating system market share.According to the Android vs. iOS market share 2022, Android had 70.97%, while iOS garnered 28.27%.In 2008, when Android launched, iOS was the leading OS globally. It wasn’t easy to imagine that a newbie like Android would take over the market in no time. Things picked up in 2012, and to date, Android has stayed ahead of Apple in the OS market.\n",
        "\n",
        "2. The Android market share was steadily declining but has stabilized in 2022.\n",
        "  Android might have aced the race in 2012, but iOS is still right at its heel. From 2018 to date, Android’s market share has been on a slow and steady decline. It started out at 77.32% in 2018 and has gradually fallen to 70.97% in 2022. On the other hand, iOS grew from 19.4% to 28.27% between 2018 and 2022.\n",
        "\n",
        "3. Android sales are steadily declining in China.\n",
        "  Europe, US, and Japan were among the biggest iOS markets. Currently, Android dominates them.Wondering where China fits into all of this? Well, China has restricted and/or banned most Google apps. Since these apps don’t work there, most Chinese folk now lean towards local brands like Xiaomi, Oppo, LeEco, and others. \n",
        "      Surprisingly though, current stats show that Android sales are beginning to pick up in China.\n",
        "\n",
        "4. As of February 2022, Samsung’s mobile vendor market share in America was 27.92%. Mobile vendor market share stats show that Samsung held close to 30% at the start of 2022. However, with close to 60%, iOS still dominates the market share in America. Motorola comes in next with 4.32%, while LG and Google follow with 3.07% and 2.38%, respectively.\n",
        "\n",
        "5. Version 11.0 of Android had a 37.6% market share in January 2022.The latest Android OS stats show that the version with the most significant market share is 11.0. However, the most current android operating system – Version 12.0 – has a 7.46% market share. Version 10.0 dropped from close to 50% in February 2021 to 25.5% in January 2022. The Pie 9.0 version came in third place with 12.58%, while position four went to Oreo 8.1 (6.54%).\n",
        "\n",
        "6. In 2021, 83% of those aged 50-64 years used Android.According to the Android vs. iOS market share for 2021, Android is most popular among users aged 50 to 64 years. With 83% of the market share, it’s way ahead of iOS and Windows.\n",
        "\n",
        "7.  Android will cover nearly 90% of smartphone shipments in 2023.It’s estimated that by the end of 2022, Android shipments will hold 86.2% of the market share, while iOS will be left with 13.8%. This number is expected to reach 87.4% by 2023.\n",
        "\n",
        "8. Android user spending in Latin America is projected to reach $2.8 billion by 2023. \n",
        "   GooglePlay spending is predicted to grow to $2.8 billion in Latin America, according to Android statistics. This would be a 408% increase from 2018’s $550 million.\n",
        "\n",
        "9. Android TV OS has over 110 million active users.As of January 2022, the total number of Android TV users worldwide is over 110 million and is set to expand considerably in the next few years. With Sony and Hisense announcing new Google TV models, Android smart TV sales are estimated to hit over 10 million annually.\n",
        "\n",
        "10. The best-selling Android smartphone in 2022 is Samsung’s Galaxy A52s 5G    With Western Europe being its biggest market, the Galaxy A52s 5G has continued to lead the list of the top 10 best-selling Android 5G phones for six consecutive months.\n",
        ".......We can alternatively say that \n",
        "\n",
        "\n",
        "Android is the most used OS in the world.\n",
        "\n",
        "Even Windows lags behind the widespread adoption of the functional smartphone platform owned by Google. iOS is not even close.\n",
        "\n",
        "When it comes to mobile devices, Apple has gained some ground over the last couple of years but Android still powers about 75% of all smartphones and tablets.\n",
        "\n",
        "\n",
        "soo now lets see our data and see how playstore is affecting ous andriod market in deep......\n",
        "\n",
        "\n",
        "**Data has been provided by Almabetter to analyze the data for different App in different categories and help them satisfy their customers needs who possibly resides around the world. \n",
        "From these analysis they can understand the needs of their customers in different aspects of product development and it will help solve the problems with the market\n",
        "\n",
        "The main objective of this project is to deal with the data provided by the company and to analyze the data in every aspect \n",
        "possible so to help them match their idea and help them to convert new and retain old customers and make reasonable growth.\n",
        " we can say also \n",
        ".............................\n",
        " Our project goal is to predict the number of installs of apps by looking at app info and its reviews. \n",
        " We hope that this project will help app developers predict their number of installs or investors \n",
        " who want to pick out the next big app. Companies may run beta focus groups, or app developers \n",
        " may receive feedback from testers and get certain amounts of reviews. We use this and some knowledge \n",
        " about the app to predict its success. Knowing the number of installs can help developers \n",
        " and business managers because they can predict the profit. This project's result may show the \n",
        " importance of reviews to apps in the market as it could be one of the determining factors for the number of installs.\n",
        "\n",
        "We have been provided with two datasets:\n",
        "\n",
        "        1.  Play Store Data.csv\n",
        "\n",
        "        2.  User Reviews.csv '''\n"
      ],
      "metadata": {
        "id": "gfoNAAC-nUe_"
      }
    },
    {
      "cell_type": "markdown",
      "source": [
        "## ***2. Understanding Your Variables***"
      ],
      "metadata": {
        "id": "nA9Y7ga8ng1Z"
      }
    },
    {
      "cell_type": "code",
      "source": [
        "# Dataset Columns\n",
        "apps_.columns"
      ],
      "metadata": {
        "id": "j7xfkqrt5Ag5"
      },
      "execution_count": null,
      "outputs": []
    },
    {
      "cell_type": "code",
      "source": [
        "users_.columns"
      ],
      "metadata": {
        "id": "RRXaR2uZziS6"
      },
      "execution_count": null,
      "outputs": []
    },
    {
      "cell_type": "code",
      "source": [
        "# Dataset Describe\n",
        "apps_.describe(include='all').T"
      ],
      "metadata": {
        "id": "DnOaZdaE5Q5t"
      },
      "execution_count": null,
      "outputs": []
    },
    {
      "cell_type": "code",
      "source": [
        "users_.describe(include='all').T"
      ],
      "metadata": {
        "id": "aA62IIy3z0Zz"
      },
      "execution_count": null,
      "outputs": []
    },
    {
      "cell_type": "markdown",
      "source": [
        "### Variables Description "
      ],
      "metadata": {
        "id": "PBTbrJXOngz2"
      }
    },
    {
      "cell_type": "markdown",
      "source": [
        "Varibale description for apps_"
      ],
      "metadata": {
        "id": "aXgleZ6C0AV7"
      }
    },
    {
      "cell_type": "markdown",
      "source": [
        "**App**             - Name of the application.  \n",
        "**Category**         - Category of the application  \n",
        "**Ratings**          - Rating given by people  \n",
        "**Reviews**          - Reviews given by people  \n",
        "**Size**             - Size of the application  \n",
        "**Installs**         - No. of Installs  \n",
        "**Type**             - Whether Free or Paid  \n",
        "**Price**            - Price of the application  \n",
        "**Content Rating**   - Ratings given by diiferent content of people  \n",
        "**Genre**            - Genres of the application   \n",
        "**Current Ver**      - Which ver are people using currently  \n",
        "**Android Ver**      - Different Android Ver count  \n"
      ],
      "metadata": {
        "id": "aJV4KIxSnxay"
      }
    },
    {
      "cell_type": "markdown",
      "source": [
        "Variable description for users_"
      ],
      "metadata": {
        "id": "RhmIvMnZ0Egj"
      }
    },
    {
      "cell_type": "markdown",
      "source": [
        "**App**       - Different types of apps  \n",
        "**Translated_Review**  - Different reviews of people translated  \n",
        "**Sentiment**  - Different sentiment of the people towards appliaction  \n",
        "**Sentiment_Polarity**  - Defines the orientation of the expressed sentiment  \n",
        "**Sentiment_Subjectivity**  - Quantifies the amount of personal opinion and factual information contained in the text."
      ],
      "metadata": {
        "id": "VeuCKK9y0J37"
      }
    },
    {
      "cell_type": "markdown",
      "source": [
        "### Check Unique Values for each variable."
      ],
      "metadata": {
        "id": "u3PMJOP6ngxN"
      }
    },
    {
      "cell_type": "code",
      "source": [
        "# Checkikng Unique Values for apps_ .\n",
        "for i in apps_.columns.tolist():\n",
        "  print(\"Count of unique values in \",i,\"is\",apps_[i].nunique(),\".\")"
      ],
      "metadata": {
        "id": "zms12Yq5n-jE"
      },
      "execution_count": null,
      "outputs": []
    },
    {
      "cell_type": "code",
      "source": [
        "unique_a = pd.DataFrame()\n",
        "unique_a['Features'] = apps_.columns\n",
        "unique=[]\n",
        "for i in apps_.columns:\n",
        "    unique.append(apps_[i].nunique())\n",
        "unique_a['Uniques'] = unique\n",
        "\n",
        "f, ax = plt.subplots(1,1, figsize=(15,7))\n",
        "\n",
        "splot = sns.barplot(x=unique_a['Features'], y=unique_a['Uniques'], alpha=0.8,color = 'blue')\n",
        "for p in splot.patches:\n",
        "    splot.annotate(format(p.get_height(), '.0f'), (p.get_x() + p.get_width() / 2., p.get_height()), ha = 'center',\n",
        "                   va = 'center', xytext = (0, 9), textcoords = 'offset points')\n",
        "plt.title('Bar plot for number of unique values in each column',weight='bold', size=15)\n",
        "plt.ylabel('#Unique values', size=12, weight='bold')\n",
        "plt.xlabel('Features', size=12, weight='bold')\n",
        "plt.xticks(rotation=90)\n",
        "plt.show()"
      ],
      "metadata": {
        "id": "72QiWdwI1VxL"
      },
      "execution_count": null,
      "outputs": []
    },
    {
      "cell_type": "code",
      "source": [
        "# Checkikng Unique Values for users_ .\n",
        "for i in users_.columns.tolist():\n",
        "  print(\"Count of unique values in \",i,\"is\",users_[i].nunique(),\".\")"
      ],
      "metadata": {
        "id": "THZ40NHD1h42"
      },
      "execution_count": null,
      "outputs": []
    },
    {
      "cell_type": "code",
      "source": [
        "unique_a = pd.DataFrame()\n",
        "unique_a['Features'] = users_.columns\n",
        "unique=[]\n",
        "for i in users_.columns:\n",
        "    unique.append(users_[i].nunique())\n",
        "unique_a['Uniques'] = unique\n",
        "\n",
        "f, ax = plt.subplots(1,1, figsize=(15,7))\n",
        "\n",
        "splot = sns.barplot(x=unique_a['Features'], y=unique_a['Uniques'], alpha=0.8,color = 'yellow')\n",
        "for p in splot.patches:\n",
        "    splot.annotate(format(p.get_height(), '.0f'), (p.get_x() + p.get_width() / 2., p.get_height()), ha = 'center',\n",
        "                   va = 'center', xytext = (0, 9), textcoords = 'offset points')\n",
        "plt.title('Bar plot for number of unique values in each column',weight='bold', size=15)\n",
        "plt.ylabel('#Unique values', size=12, weight='bold')\n",
        "plt.xlabel('Features', size=12, weight='bold')\n",
        "plt.xticks(rotation=90)\n",
        "plt.show()"
      ],
      "metadata": {
        "id": "D75a0Jn31t8c"
      },
      "execution_count": null,
      "outputs": []
    },
    {
      "cell_type": "markdown",
      "source": [
        "## 3. ***Data Wrangling***"
      ],
      "metadata": {
        "id": "dauF4eBmngu3"
      }
    },
    {
      "cell_type": "markdown",
      "source": [
        "### Data Wrangling Code"
      ],
      "metadata": {
        "id": "bKJF3rekwFvQ"
      }
    },
    {
      "cell_type": "code",
      "source": [
        "# Write your code to make your dataset analysis ready."
      ],
      "metadata": {
        "id": "wk-9a2fpoLcV"
      },
      "execution_count": null,
      "outputs": []
    },
    {
      "cell_type": "code",
      "source": [
        "apps_.sample(4)"
      ],
      "metadata": {
        "id": "i1qlmxAs2Mtg"
      },
      "execution_count": null,
      "outputs": []
    },
    {
      "cell_type": "code",
      "source": [
        "apps_.dropna(inplace=True)"
      ],
      "metadata": {
        "id": "KHrqCvt7-nRp"
      },
      "execution_count": null,
      "outputs": []
    },
    {
      "cell_type": "code",
      "source": [
        "apps_.drop_duplicates(inplace=True)"
      ],
      "metadata": {
        "id": "JRayxrEq-ss7"
      },
      "execution_count": null,
      "outputs": []
    },
    {
      "cell_type": "markdown",
      "source": [
        "Rating"
      ],
      "metadata": {
        "id": "0SM2X2I635Sx"
      }
    },
    {
      "cell_type": "code",
      "source": [
        "apps_['Rating'].unique()"
      ],
      "metadata": {
        "id": "9L-TBgax4Sum"
      },
      "execution_count": null,
      "outputs": []
    },
    {
      "cell_type": "markdown",
      "source": [
        "Category"
      ],
      "metadata": {
        "id": "BCXbvk634XBU"
      }
    },
    {
      "cell_type": "code",
      "source": [
        "apps_['Category'].unique()"
      ],
      "metadata": {
        "id": "C5oATkbJ4ZpV"
      },
      "execution_count": null,
      "outputs": []
    },
    {
      "cell_type": "code",
      "source": [
        "apps_[apps_['Category']=='1.9']"
      ],
      "metadata": {
        "id": "dNuoUcdE4d1H"
      },
      "execution_count": null,
      "outputs": []
    },
    {
      "cell_type": "markdown",
      "source": [
        "Reviews"
      ],
      "metadata": {
        "id": "2X0a4I404k29"
      }
    },
    {
      "cell_type": "code",
      "source": [
        "apps_['Reviews'].unique()"
      ],
      "metadata": {
        "id": "AYZjdQx94oqV"
      },
      "execution_count": null,
      "outputs": []
    },
    {
      "cell_type": "code",
      "source": [
        "apps_['Reviews']=pd.to_numeric(apps_['Reviews'])"
      ],
      "metadata": {
        "id": "DtB-Uf6_4uI_"
      },
      "execution_count": null,
      "outputs": []
    },
    {
      "cell_type": "markdown",
      "source": [
        "Size"
      ],
      "metadata": {
        "id": "BQdutsEa4zH9"
      }
    },
    {
      "cell_type": "code",
      "source": [
        "apps_['Size'].unique()"
      ],
      "metadata": {
        "id": "6WEpsca340Yf"
      },
      "execution_count": null,
      "outputs": []
    },
    {
      "cell_type": "code",
      "source": [
        "apps_['Size']=apps_['Size'].str.replace(\"M\",\"000000\")\n",
        "apps_['Size']=apps_['Size'].str.replace(\"k\",\"000\")\n",
        "apps_['Size']=apps_['Size'].str.replace('Varies with device','1')"
      ],
      "metadata": {
        "id": "_66a2X5f47El"
      },
      "execution_count": null,
      "outputs": []
    },
    {
      "cell_type": "code",
      "source": [
        "apps_['Size']=pd.to_numeric(apps_['Size'])"
      ],
      "metadata": {
        "id": "q_FDkloD5C1O"
      },
      "execution_count": null,
      "outputs": []
    },
    {
      "cell_type": "markdown",
      "source": [
        "Installs"
      ],
      "metadata": {
        "id": "XRGHb2I75Jof"
      }
    },
    {
      "cell_type": "code",
      "source": [
        "apps_['Installs'].unique()"
      ],
      "metadata": {
        "id": "MHmrkEvJ5K9V"
      },
      "execution_count": null,
      "outputs": []
    },
    {
      "cell_type": "code",
      "source": [
        "apps_['Installs']=apps_['Installs'].str.replace('+','')\n",
        "apps_['Installs']=apps_['Installs'].str.replace(',','')"
      ],
      "metadata": {
        "id": "vQ9YnjEv5Ojh"
      },
      "execution_count": null,
      "outputs": []
    },
    {
      "cell_type": "code",
      "source": [
        "apps_['Installs']=pd.to_numeric(apps_['Installs'])"
      ],
      "metadata": {
        "id": "a0oceB1d5RFp"
      },
      "execution_count": null,
      "outputs": []
    },
    {
      "cell_type": "markdown",
      "source": [
        "Type"
      ],
      "metadata": {
        "id": "wZ7lagV95aPq"
      }
    },
    {
      "cell_type": "code",
      "source": [
        "apps_['Type'].unique()"
      ],
      "metadata": {
        "id": "ZW3ioPqN5ctU"
      },
      "execution_count": null,
      "outputs": []
    },
    {
      "cell_type": "code",
      "source": [
        "apps_[apps_['Type']=='nan']"
      ],
      "metadata": {
        "id": "USnTCimB95PA"
      },
      "execution_count": null,
      "outputs": []
    },
    {
      "cell_type": "markdown",
      "source": [
        "Price"
      ],
      "metadata": {
        "id": "LfAeBmbV5n29"
      }
    },
    {
      "cell_type": "code",
      "source": [
        "apps_['Price'].unique()"
      ],
      "metadata": {
        "id": "HDLQFuiN5o7J"
      },
      "execution_count": null,
      "outputs": []
    },
    {
      "cell_type": "code",
      "source": [
        "apps_['Price']=apps_['Price'].str.replace('$','')"
      ],
      "metadata": {
        "id": "dSWiaAfT5rJP"
      },
      "execution_count": null,
      "outputs": []
    },
    {
      "cell_type": "code",
      "source": [
        "apps_['Price']=pd.to_numeric(apps_['Price'])"
      ],
      "metadata": {
        "id": "tBJ8EbyR5v9U"
      },
      "execution_count": null,
      "outputs": []
    },
    {
      "cell_type": "markdown",
      "source": [
        "Content Rating"
      ],
      "metadata": {
        "id": "S2stdW8v53oP"
      }
    },
    {
      "cell_type": "code",
      "source": [
        "apps_['Content Rating'].unique()"
      ],
      "metadata": {
        "id": "hGA4bDsA55p_"
      },
      "execution_count": null,
      "outputs": []
    },
    {
      "cell_type": "markdown",
      "source": [
        "Genres"
      ],
      "metadata": {
        "id": "IS6vx82S5_Qa"
      }
    },
    {
      "cell_type": "code",
      "source": [
        "apps_['Genres'].unique()"
      ],
      "metadata": {
        "id": "gNZzALSw6CKX"
      },
      "execution_count": null,
      "outputs": []
    },
    {
      "cell_type": "markdown",
      "source": [
        "Last Updated"
      ],
      "metadata": {
        "id": "o3pzWwkv6IEs"
      }
    },
    {
      "cell_type": "code",
      "source": [
        "apps_['Last Updated'].unique()"
      ],
      "metadata": {
        "id": "NWcOo29X6RAs"
      },
      "execution_count": null,
      "outputs": []
    },
    {
      "cell_type": "code",
      "source": [
        "apps_['Last Updated']=pd.to_datetime(apps_['Last Updated'])"
      ],
      "metadata": {
        "id": "sRsHuPH26UIQ"
      },
      "execution_count": null,
      "outputs": []
    },
    {
      "cell_type": "code",
      "source": [
        "apps_['Year'] = apps_['Last Updated'].dt.strftime('%Y')\n",
        "apps_['Month'] = apps_['Last Updated'].dt.strftime('%m')\n",
        "apps_['day'] = apps_['Last Updated'].dt.strftime('%m')"
      ],
      "metadata": {
        "id": "p_f2_-wn8zhH"
      },
      "execution_count": null,
      "outputs": []
    },
    {
      "cell_type": "code",
      "source": [
        "apps_.drop(['Last Updated'],axis=1,inplace=True)"
      ],
      "metadata": {
        "id": "FqV_blUZCwlU"
      },
      "execution_count": null,
      "outputs": []
    },
    {
      "cell_type": "markdown",
      "source": [
        "Current Version"
      ],
      "metadata": {
        "id": "YADmgL0V6cmt"
      }
    },
    {
      "cell_type": "code",
      "source": [
        "apps_['Current Ver'].unique()"
      ],
      "metadata": {
        "id": "9Lm4qc_46cNe"
      },
      "execution_count": null,
      "outputs": []
    },
    {
      "cell_type": "code",
      "source": [
        "apps_['Current Ver'] = apps_['Current Ver'].apply(lambda x:str(x).split('.',1)[0])"
      ],
      "metadata": {
        "id": "kAGWx1rY6k1F"
      },
      "execution_count": null,
      "outputs": []
    },
    {
      "cell_type": "code",
      "source": [
        "apps_['Current Ver'] = apps_['Current Ver'].str.replace('Varies with device','1')"
      ],
      "metadata": {
        "id": "pbu1_8XS6vq5"
      },
      "execution_count": null,
      "outputs": []
    },
    {
      "cell_type": "markdown",
      "source": [
        "Android Ver"
      ],
      "metadata": {
        "id": "fp72mj0x7ETa"
      }
    },
    {
      "cell_type": "code",
      "source": [
        "apps_['Android Ver'].unique()"
      ],
      "metadata": {
        "id": "ast7xDo67Yb-"
      },
      "execution_count": null,
      "outputs": []
    },
    {
      "cell_type": "code",
      "source": [
        "apps_['Android Ver'] = apps_['Android Ver'].str.replace('Varies with device','4')"
      ],
      "metadata": {
        "id": "NPU9osha7gSy"
      },
      "execution_count": null,
      "outputs": []
    },
    {
      "cell_type": "code",
      "source": [
        "apps_['Android Ver'] = apps_['Android Ver'].str.replace('and up','')"
      ],
      "metadata": {
        "id": "Jj0ozJ9g7lZt"
      },
      "execution_count": null,
      "outputs": []
    },
    {
      "cell_type": "code",
      "source": [
        "apps_['Android Ver'] = apps_['Android Ver'].apply(lambda x:str(x).split('.',1)[0])"
      ],
      "metadata": {
        "id": "XTJzhLXW7vTn"
      },
      "execution_count": null,
      "outputs": []
    },
    {
      "cell_type": "code",
      "source": [
        "apps_.info()"
      ],
      "metadata": {
        "id": "bgclQOuC9C5J"
      },
      "execution_count": null,
      "outputs": []
    },
    {
      "cell_type": "markdown",
      "source": [
        "We will be checking on users columns\n"
      ],
      "metadata": {
        "id": "P-0gIE_rBfCB"
      }
    },
    {
      "cell_type": "code",
      "source": [
        "users_.dropna(inplace=True)"
      ],
      "metadata": {
        "id": "uzhqjUlWBk0a"
      },
      "execution_count": null,
      "outputs": []
    },
    {
      "cell_type": "markdown",
      "source": [
        "Dropping duplicates if present"
      ],
      "metadata": {
        "id": "Iok2S7bkBt1R"
      }
    },
    {
      "cell_type": "code",
      "source": [
        "users_.drop_duplicates()"
      ],
      "metadata": {
        "id": "BIhfbHNVBxZK"
      },
      "execution_count": null,
      "outputs": []
    },
    {
      "cell_type": "code",
      "source": [
        "users_.info()"
      ],
      "metadata": {
        "id": "kVH-SfZuB24Z"
      },
      "execution_count": null,
      "outputs": []
    },
    {
      "cell_type": "markdown",
      "source": [
        "Merging our dataset"
      ],
      "metadata": {
        "id": "fu8R4BjG_094"
      }
    },
    {
      "cell_type": "code",
      "source": [
        "apps_users_df = pd.merge (apps_, users_, how='inner', left_on='App', right_on='App')"
      ],
      "metadata": {
        "id": "7i0JiDRz_yqe"
      },
      "execution_count": null,
      "outputs": []
    },
    {
      "cell_type": "markdown",
      "source": [
        "### What all manipulations have you done and insights you found?"
      ],
      "metadata": {
        "id": "MSa1f5Uengrz"
      }
    },
    {
      "cell_type": "markdown",
      "source": [
        "1. First we remove null value and duplicates.\n",
        "2. Then we checked unique values of each columns.\n",
        "3. From category column we removed numerical entry.\n",
        "4. We replace the digits from the columns Size and categorical entry by 1.\n",
        "5. We replced characters from Installs column.\n",
        "6. We replced characters from Price column.\n",
        "7. We strip date column.\n",
        "8. From Current Ver and Android Ver colulmns we replaced the categorical values. And we removed character from the columns.\n",
        "9. We merged both of our data. "
      ],
      "metadata": {
        "id": "LbyXE7I1olp8"
      }
    },
    {
      "cell_type": "markdown",
      "source": [
        "## ***4. Data Vizualization, Storytelling & Experimenting with charts : Understand the relationships between variables***"
      ],
      "metadata": {
        "id": "GF8Ens_Soomf"
      }
    },
    {
      "cell_type": "markdown",
      "source": [
        "#### Chart - 1"
      ],
      "metadata": {
        "id": "0wOQAZs5pc--"
      }
    },
    {
      "cell_type": "code",
      "source": [
        "# Chart - 1 visualization code\n",
        "apps_.head(3)"
      ],
      "metadata": {
        "id": "7v_ESjsspbW7"
      },
      "execution_count": null,
      "outputs": []
    },
    {
      "cell_type": "code",
      "source": [
        "High_category= apps_['Category'].value_counts().head(100) "
      ],
      "metadata": {
        "id": "TPBqK8YeFkew"
      },
      "execution_count": null,
      "outputs": []
    },
    {
      "cell_type": "code",
      "source": [
        "plt.figure(figsize=(18,7))\n",
        "ax = sns.countplot(x=\"Category\", data=apps_, palette=[\"#FF3030\",'#104E8B','#00BFFF'],path_effects=[path_effects.SimplePatchShadow(),path_effects.Normal()],order=apps_['Category'].value_counts().index[:])\n",
        "plt.title('Top Categories in the Playstore', fontsize=15)\n",
        "plt.xticks(rotation = 90)\n",
        "for bar in ax.patches:\n",
        "    ax.annotate(format(bar.get_height(), '.2f'),\n",
        "                   (bar.get_x() + bar.get_width() / 2,\n",
        "                    bar.get_height()), ha='center', va='center',\n",
        "                   size=7, xytext=(0, 8),\n",
        "                   textcoords='offset points')\n",
        "plt.show() "
      ],
      "metadata": {
        "id": "Q6E4rsjlGPQn"
      },
      "execution_count": null,
      "outputs": []
    },
    {
      "cell_type": "markdown",
      "source": [
        "1. Top Category to be downloaded is Family 1717 and following the lowest to \n",
        "be of Beauty 42"
      ],
      "metadata": {
        "id": "MyiP1P2uoRKc"
      }
    },
    {
      "cell_type": "code",
      "source": [
        "plt.figure(figsize=(18,8))\n",
        "ax = sns.displot(x= apps_['Category'], hue = 'Type', data = apps_,path_effects=\n",
        "[SimpleLineShadow(), Normal()] ,kind = 'hist', height=10, aspect=2, multiple='dodge',palette=['blue','green'])\n",
        "plt.title('Which category is free and paid ')\n",
        "plt.xlabel('category')\n",
        "plt.xticks(rotation = 90)\n",
        "plt.show()"
      ],
      "metadata": {
        "id": "Kb8hjbTPY5lV"
      },
      "execution_count": null,
      "outputs": []
    },
    {
      "cell_type": "markdown",
      "source": [
        "2. Family got the highest number of unpaid user while count for paid user is\n",
        "also high for family category"
      ],
      "metadata": {
        "id": "cKozUcg9opCR"
      }
    },
    {
      "cell_type": "code",
      "source": [
        "g = sns.FacetGrid(apps_, col='Category', palette=\"Set1\",  col_wrap=5, height=4)\n",
        "g = (g.map(sns.distplot, \"Rating\", hist=False, rug=True, color=\"r\"))"
      ],
      "metadata": {
        "id": "XZ0oB8mUH-pT"
      },
      "execution_count": null,
      "outputs": []
    },
    {
      "cell_type": "code",
      "source": [
        "fig,ax=plt.subplots(figsize=(20,7))\n",
        "ax=sns.barplot(data=apps_,x='Category',y='Rating',path_effects=[path_effects.SimplePatchShadow(),path_effects.Normal()],ci=None,palette= ['yellow'])\n",
        "ax.set_title('Which category got maximum rating', fontsize=18)\n",
        "for bar in ax.patches:\n",
        "    ax.annotate(format(bar.get_height(), '.2f'),\n",
        "                   (bar.get_x() + bar.get_width() / 2,\n",
        "                    bar.get_height()), ha='center', va='center',\n",
        "                   size=6, xytext=(0, 8),\n",
        "                   textcoords='offset points')\n",
        "    plt.xticks(rotation = 90)"
      ],
      "metadata": {
        "id": "D_5yFSITp1bU"
      },
      "execution_count": null,
      "outputs": []
    },
    {
      "cell_type": "markdown",
      "source": [
        "3 . Averagely, all the category got the rating of 4 and above...."
      ],
      "metadata": {
        "id": "1Cb8M6wxry1I"
      }
    },
    {
      "cell_type": "code",
      "source": [
        "fig,ax=plt.subplots(figsize=(20,7))\n",
        "ax=sns.barplot(data=apps_,x='Category',y='Reviews',path_effects=[path_effects.SimplePatchShadow(),path_effects.Normal()],ci=None,palette= ['indigo'])\n",
        "ax.set_title('Which category got maximum review', fontsize=18)\n",
        "for bar in ax.patches:\n",
        "    ax.annotate(format(bar.get_height(), '.2f'),\n",
        "                   (bar.get_x() + bar.get_width() / 2,\n",
        "                    bar.get_height()), ha='center', va='center',\n",
        "                   size=6, xytext=(0, 8),\n",
        "                   textcoords='offset points')\n",
        "    plt.xticks(rotation = 90)"
      ],
      "metadata": {
        "id": "6KwKfcRMIjHl"
      },
      "execution_count": null,
      "outputs": []
    },
    {
      "cell_type": "markdown",
      "source": [
        "4. Social is the category which got the maximum review which is 2186788 and event got the lowest 35875"
      ],
      "metadata": {
        "id": "75nAFi7lpa7F"
      }
    },
    {
      "cell_type": "code",
      "source": [
        "app_count =apps_.groupby(['Category','Type'])[['App']].count().reset_index().rename(columns={'App':'Count','index':'App'})\n",
        "app_count"
      ],
      "metadata": {
        "id": "Csh5Ne7DKW2W"
      },
      "execution_count": null,
      "outputs": []
    },
    {
      "cell_type": "code",
      "source": [
        "df_app_count = app_count.pivot('Category', 'Type', 'Count').fillna(0).reset_index()\n",
        "df_app_count.set_index('Category').plot(kind='bar',stacked=True, figsize=(18,9),path_effects=[path_effects.SimplePatchShadow(),path_effects.Normal()],color=['#BDFCC9','#191970'])\n",
        "plt.xlabel(\"Category\", fontsize=15)\n",
        "plt.ylabel(\"Count\", fontsize=15)\n",
        "plt.title(\"Count of applications in each category differentiated by their type\")\n",
        "plt.show()"
      ],
      "metadata": {
        "id": "nQZgkZOyKdKj"
      },
      "execution_count": null,
      "outputs": []
    },
    {
      "cell_type": "markdown",
      "source": [
        "5. Family is the category which has highest no. unpaid apps to be downloaded it is 1560 while count for paid apps is 157 the lowest category is beauty,event and parenting"
      ],
      "metadata": {
        "id": "OzsazMgns2nT"
      }
    },
    {
      "cell_type": "code",
      "source": [
        "Category_size =apps_.groupby(['Category','Type'])[['Size']].count().reset_index().rename(columns={'App':'Count','index':'App'})"
      ],
      "metadata": {
        "id": "rHsGa5BfLFjz"
      },
      "execution_count": null,
      "outputs": []
    },
    {
      "cell_type": "code",
      "source": [
        "df_Category_size = Category_size.pivot('Category', 'Type', 'Size').fillna(0).reset_index()\n",
        "df_Category_size"
      ],
      "metadata": {
        "id": "Tq105axxYo-i"
      },
      "execution_count": null,
      "outputs": []
    },
    {
      "cell_type": "markdown",
      "source": [
        "6.  Mostly the maximum number of content to be downloaded is for too tools category and in the more than 80% fo the apps are free which is 670 while the count for paid is 63 only"
      ],
      "metadata": {
        "id": "br_hOVVioP6o"
      }
    },
    {
      "cell_type": "code",
      "source": [
        "df_Category_size = Category_size.pivot('Category', 'Type', 'Size').fillna(0).reset_index()\n",
        "df_Category_size.set_index('Category').plot(kind='barh', figsize=(18,9),color = ['red','blue'] ,path_effects=[path_effects.SimplePatchShadow(),path_effects.Normal()])\n",
        "plt.xlabel(\"Category\", fontsize=15)\n",
        "plt.ylabel(\"Size\", fontsize=15)\n",
        "plt.title(\"Size of applications in each category differentiated by their type\")\n",
        "plt.show()\n"
      ],
      "metadata": {
        "id": "v1QXVDPbLQyr"
      },
      "execution_count": null,
      "outputs": []
    },
    {
      "cell_type": "code",
      "source": [
        "fig,ax=plt.subplots(figsize=(20,7))\n",
        "ax=sns.barplot(data=apps_,x='Category',y='Installs',path_effects=[path_effects.SimplePatchShadow(),path_effects.Normal()] ,ci=None,color = 'Black' )\n",
        "ax.set_title('Which category got maximum Installs', fontsize=18)\n",
        "for bar in ax.patches:\n",
        "    ax.annotate(format(bar.get_height(), '.2f'),\n",
        "                   (bar.get_x() + bar.get_width() / 2,\n",
        "                    bar.get_height()), ha='center', va='center',\n",
        "                   size=6, xytext=(0, 8),\n",
        "                   textcoords='offset points')\n",
        "    plt.xticks(rotation = 90)"
      ],
      "metadata": {
        "id": "NfhamzCuazle"
      },
      "execution_count": null,
      "outputs": []
    },
    {
      "cell_type": "markdown",
      "source": [
        "7. MAximum number of installs happen in communication category it is nearly 78671796 while the lowest happens for medical 139611"
      ],
      "metadata": {
        "id": "W-9cesy5o9dR"
      }
    },
    {
      "cell_type": "markdown",
      "source": [
        "##### 1. Why did you pick the specific chart?"
      ],
      "metadata": {
        "id": "K5QZ13OEpz2H"
      }
    },
    {
      "cell_type": "markdown",
      "source": [
        "Here we have choosed many graphs to get a proper visualization of the features in different aspects the graph which we used are barplot,countplot and Facegrid as we know they shows.\n",
        "1. each data category in a frequency distribution.\n",
        "2. display relative numbers or proportions of multiple categories.\n",
        "3. summarize a large data set in visual form.\n",
        "4. clarify trends better than do tables.\n",
        "5. estimate key values at a glance.\n",
        "6. permit a visual check of the accuracy and reasonableness of calculations"
      ],
      "metadata": {
        "id": "XESiWehPqBRc"
      }
    },
    {
      "cell_type": "markdown",
      "source": [
        "##### 2. What is/are the insight(s) found from the chart?"
      ],
      "metadata": {
        "id": "lQ7QKXXCp7Bj"
      }
    },
    {
      "cell_type": "markdown",
      "source": [
        "1. Top Category to be downloaded is Family 1717 and following the lowest to \n",
        "be of Beauty 42\n",
        "2. Family got the highest number of unpaid user while count for paid user is\n",
        "also high for family categpry\n",
        "3 . Averagely, all the category got the rating of 4 and above....\n",
        "4. Social is the category which got the maximum review which is 2186788 and event got the lowest 35875\n",
        "5. Family is the category which has highest no. unpaid apps to be downloaded it is 1560 while count for paid apps is 157 the lowest category is beauty,event and parenting\n",
        "6.  Mostly the maximum number of content to be downloaded is for too tools category and in the more than 80% fo the apps are free which is 670 while the count for paid is 63 only\n",
        "7. MAximum number of installs happen in communication category it is nearly 78671796 while the lowest happens for medical 139611"
      ],
      "metadata": {
        "id": "C_j1G7yiqdRP"
      }
    },
    {
      "cell_type": "markdown",
      "source": [
        "##### 3. Will the gained insights help creating a positive business impact? \n",
        "Are there any insights that lead to negative growth? Justify with specific reason."
      ],
      "metadata": {
        "id": "448CDAPjqfQr"
      }
    },
    {
      "cell_type": "markdown",
      "source": [
        "It will bcz we can see Category of apps that is most downloaded is of family so makers should produce more apps in this category and it can also create  a good revenue by putting ads in the apps.. too"
      ],
      "metadata": {
        "id": "3cspy4FjqxJW"
      }
    },
    {
      "cell_type": "markdown",
      "source": [
        "#### Chart - 2"
      ],
      "metadata": {
        "id": "KSlN3yHqYklG"
      }
    },
    {
      "cell_type": "code",
      "source": [
        "# Chart - 2 visualization code"
      ],
      "metadata": {
        "id": "R4YgtaqtYklH"
      },
      "execution_count": null,
      "outputs": []
    },
    {
      "cell_type": "code",
      "source": [
        "top_genres = apps_['Genres'].value_counts()\n",
        "top_genres"
      ],
      "metadata": {
        "id": "6EvruzfQcPT4"
      },
      "execution_count": null,
      "outputs": []
    },
    {
      "cell_type": "code",
      "source": [
        "plt.figure(figsize=(18,7))\n",
        "ax = sns.countplot(x=\"Genres\", data=apps_, palette=[\"#BDFCC9\",'#000080','#BBFFFF'],path_effects=[path_effects.SimplePatchShadow(),path_effects.Normal()],order=apps_['Genres'].value_counts().index[:30])\n",
        "plt.title('Top Genres in the Playstore', fontsize=15)\n",
        "plt.xticks(rotation = 90)\n",
        "for bar in ax.patches:\n",
        "    ax.annotate(format(bar.get_height(), '.2f'),\n",
        "                   (bar.get_x() + bar.get_width() / 2,\n",
        "                    bar.get_height()), ha='center', va='center',\n",
        "                   size=7, xytext=(0, 8),\n",
        "                   textcoords='offset points')\n",
        "plt.show() "
      ],
      "metadata": {
        "id": "q9GyMDlcchNL"
      },
      "execution_count": null,
      "outputs": []
    },
    {
      "cell_type": "markdown",
      "source": [
        "1. Top Genres in the given data is Tools(count of 732) and the lowest is racing(count of 93)"
      ],
      "metadata": {
        "id": "TiAgSrXlqAgJ"
      }
    },
    {
      "cell_type": "code",
      "source": [
        "plt.figure(figsize=(18,8))\n",
        "ax = sns.displot(x= apps_['Genres'], hue = 'Type', data = apps_ ,kind = 'hist', height=10, aspect=2,path_effects=[path_effects.SimplePatchShadow(),path_effects.Normal()] ,multiple='dodge',palette=['#E6E6FA','#8B008B'])\n",
        "plt.title('Which Genres are free and paid ')\n",
        "plt.xlabel('Genres')\n",
        "plt.xticks(rotation = 90)\n",
        "plt.show()"
      ],
      "metadata": {
        "id": "tU30SV1Lc3Rr"
      },
      "execution_count": null,
      "outputs": []
    },
    {
      "cell_type": "markdown",
      "source": [
        "2.Tools are the given genre that have more paid as well as unpaid cusotmers in accordance of buying app frojm playstore...while the lowest are many as of such is puzzle:education nearly it is 0"
      ],
      "metadata": {
        "id": "Pt88OYnwqaMw"
      }
    },
    {
      "cell_type": "code",
      "source": [
        "cate1=print(apps_.groupby(['Genres'])[['Rating']].count().reset_index())\n",
        "cate1"
      ],
      "metadata": {
        "id": "RKFU_QA-fngR"
      },
      "execution_count": null,
      "outputs": []
    },
    {
      "cell_type": "markdown",
      "source": [
        "3. Action got the highest rating counts around 349 in all aspects while the lowest one is Word which got barely 27"
      ],
      "metadata": {
        "id": "Ge1Jmpb5q97z"
      }
    },
    {
      "cell_type": "code",
      "source": [
        "plt.figure(figsize=(22,10))\n",
        "ax = sns.countplot(x=\"Genres\", data=apps_, palette=\"crest\", path_effects=[path_effects.SimplePatchShadow(),path_effects.Normal()],order=cate1)\n",
        "plt.title('Which Genres got maxium ratings', fontsize=15)\n",
        "plt.xticks(rotation = 90)\n",
        "for bar in ax.patches:\n",
        "    ax.annotate(format(bar.get_height(), '.2f'),\n",
        "                   (bar.get_x() + bar.get_width() / 2,\n",
        "                    bar.get_height()), ha='center', va='center',\n",
        "                   size=6, xytext=(0, 8),\n",
        "                   textcoords='offset points')\n",
        "plt.show() "
      ],
      "metadata": {
        "id": "W6Z4e1KbgORk"
      },
      "execution_count": null,
      "outputs": []
    },
    {
      "cell_type": "code",
      "source": [
        "fig,ax=plt.subplots(figsize=(23,7))\n",
        "ax=sns.barplot(data=apps_,x='Genres',y='Reviews',path_effects=[path_effects.SimplePatchShadow(),path_effects.Normal()], ci=None,color = 'blue' )\n",
        "ax.set_title('Which Genres got maximum review', fontsize=18)\n",
        "for bar in ax.patches:\n",
        "    ax.annotate(format(bar.get_height(), '.2f'),\n",
        "                   (bar.get_x() + bar.get_width() / 2,\n",
        "                    bar.get_height()), ha='center', va='center',\n",
        "                   size=6, xytext=(0, 8),\n",
        "                   textcoords='offset points')\n",
        "    plt.xticks(rotation = 90)"
      ],
      "metadata": {
        "id": "mcjW36f5hHfY"
      },
      "execution_count": null,
      "outputs": []
    },
    {
      "cell_type": "markdown",
      "source": [
        "4. Adventure;Action& Adventure got the maximum reviews around 3087739"
      ],
      "metadata": {
        "id": "Jrn3EPvErZgi"
      }
    },
    {
      "cell_type": "code",
      "source": [
        "app_count =apps_.groupby(['Genres','Type'])[['App']].count().reset_index().rename(columns={'App':'Count','index':'App'})"
      ],
      "metadata": {
        "id": "h21WgFf4h-kk"
      },
      "execution_count": null,
      "outputs": []
    },
    {
      "cell_type": "code",
      "source": [
        "df_app_count = app_count.pivot('Genres', 'Type', 'Count').fillna(0).reset_index()\n",
        "df_app_count.set_index('Genres').plot(kind='barh', stacked=True, figsize=(22,25),path_effects=[path_effects.SimplePatchShadow(),path_effects.Normal()],color=['#E6E6FA','#8B008B'])\n",
        "plt.xlabel(\"Genres\", fontsize=15)\n",
        "plt.ylabel(\"Count\", fontsize=15)\n",
        "plt.title(\"Count of applications in each Genres differentiated by their type\")\n",
        "plt.show()"
      ],
      "metadata": {
        "id": "cyAOyYtPiTzr"
      },
      "execution_count": null,
      "outputs": []
    },
    {
      "cell_type": "markdown",
      "source": [
        "5.Tools genre has the highest number of umpaid customers(669) whereas the paid customers are nearly eaqual for Medical(64),Personalization(65) and Tools(63) genres"
      ],
      "metadata": {
        "id": "2xA-zK25sAkq"
      }
    },
    {
      "cell_type": "code",
      "source": [
        "Genres_size =apps_.groupby(['Genres','Type'])[['Size']].count().reset_index().rename(columns={'App':'Count','index':'App'})"
      ],
      "metadata": {
        "id": "XZjqJpkBi7TV"
      },
      "execution_count": null,
      "outputs": []
    },
    {
      "cell_type": "code",
      "source": [
        "df_Genres_size = Genres_size.pivot('Genres', 'Type', 'Size').fillna(0).reset_index()\n",
        "df_Genres_size"
      ],
      "metadata": {
        "id": "HWU1Q3Q9jNTc"
      },
      "execution_count": null,
      "outputs": []
    },
    {
      "cell_type": "code",
      "source": [
        "df_Genres_size = Genres_size.pivot('Genres', 'Type', 'Size').fillna(0).reset_index()\n",
        "df_Genres_size.set_index('Genres').plot(kind='bar', figsize=(22,9),color = ['#ADD8E6','green'] ,path_effects=[path_effects.SimplePatchShadow(),path_effects.Normal()])\n",
        "plt.xlabel(\"Genres\", fontsize=15)\n",
        "plt.ylabel(\"Size\", fontsize=15)\n",
        "plt.title(\"Size of applications in each category differentiated by their type\")\n",
        "plt.show()"
      ],
      "metadata": {
        "id": "w2rAuSh1jhFm"
      },
      "execution_count": null,
      "outputs": []
    },
    {
      "cell_type": "markdown",
      "source": [
        "6. Tools are the genres which are downloaded the most by people and susiquently the size of the downloaded content in the dataset following entertainemnt and then education"
      ],
      "metadata": {
        "id": "j6wTuS2HtSZ_"
      }
    },
    {
      "cell_type": "code",
      "source": [
        "fig,ax=plt.subplots(figsize=(22,7))\n",
        "ax=sns.barplot(data=apps_,x='Genres',y='Installs',path_effects=[path_effects.SimplePatchShadow(),path_effects.Normal()], ci=None,color = 'cyan' )\n",
        "ax.set_title('Which Genres got maximum Installs', fontsize=18)\n",
        "for bar in ax.patches:\n",
        "    ax.annotate(format(bar.get_height(), '.2f'),\n",
        "                   (bar.get_x() + bar.get_width() / 2,\n",
        "                    bar.get_height()), ha='center', va='center',\n",
        "                   size=6, xytext=(0, 8),\n",
        "                   textcoords='offset points')\n",
        "    plt.xticks(rotation = 90)"
      ],
      "metadata": {
        "id": "4YMYoVMfkXFG"
      },
      "execution_count": null,
      "outputs": []
    },
    {
      "cell_type": "markdown",
      "source": [
        "7. Communication got the maximum number of installs around 7861796.5 which is huge"
      ],
      "metadata": {
        "id": "ETgBMaACt_gC"
      }
    },
    {
      "cell_type": "markdown",
      "source": [
        "##### 1. Why did you pick the specific chart?"
      ],
      "metadata": {
        "id": "t6dVpIINYklI"
      }
    },
    {
      "cell_type": "markdown",
      "source": [
        "Here i have used bar plot because is used to represent categorical data, which is data that can be divided into distinct categories. In a bar plot, each category is represented by a separate bar, and the height of the bar represents the frequency or count of data points in that category.."
      ],
      "metadata": {
        "id": "5aaW0BYyYklI"
      }
    },
    {
      "cell_type": "markdown",
      "source": [
        "##### 2. What is/are the insight(s) found from the chart?"
      ],
      "metadata": {
        "id": "ijmpgYnKYklI"
      }
    },
    {
      "cell_type": "markdown",
      "source": [
        "1. Top Genres in the given data is Tools(count of 732) and the lowest is racing(count of 93)\n",
        "2. Tools are the given genre that have more paid as well as unpaid customers in accordance of buying app frojm playstore...while the lowest are many as of such is puzzle:education nearly it is 0\n",
        "3. Action got the highest rating counts around 349 in all aspects while the lowest one is Word which got barely 27\n",
        "4. Adventure;Action& Adventure Genre got the maximum reviews around 3087739\n",
        "5. Tools genre has the highest number of umpaid customers(669) whereas the paid customers are nearly eaqual for Medical(64),Personalization(65) and Tools(63) genres\n",
        "6. Tools are the genres which are downloaded the most by people and susiquently the size of the downloaded content in the dataset following entertainemnt and then education\n",
        "7. Communication Genre got the maximum number of installs around 7861796.5 which is huge"
      ],
      "metadata": {
        "id": "PSx9atu2YklI"
      }
    },
    {
      "cell_type": "markdown",
      "source": [
        "##### 3. Will the gained insights help creating a positive business impact? \n",
        "Are there any insights that lead to negative growth? Justify with specific reason."
      ],
      "metadata": {
        "id": "-JiQyfWJYklI"
      }
    },
    {
      "cell_type": "markdown",
      "source": [
        "Tops Genres performing well is of Tools we can make use of this Genre for business but the fact is that action got the highest rating count ... people generally prefer action which can be seen from the data so we need to add more action packed apps.. and the most shocking obersvation is Communication Genre has the most number of installs... we can use add more apps in communication genre."
      ],
      "metadata": {
        "id": "BcBbebzrYklV"
      }
    },
    {
      "cell_type": "markdown",
      "source": [
        "#### Chart - 3"
      ],
      "metadata": {
        "id": "EM7whBJCYoAo"
      }
    },
    {
      "cell_type": "code",
      "source": [
        "# Chart - 3 visualization code"
      ],
      "metadata": {
        "id": "t6GMdE67YoAp"
      },
      "execution_count": null,
      "outputs": []
    },
    {
      "cell_type": "code",
      "source": [
        "apps_['Type'].value_counts().plot(kind='pie',shadow=True,autopct='%1.1f%%',colors = ( \"#ADD8E6\", \"yellow\"),figsize=(10,5),startangle=360,explode=[0.16,0.3])\n",
        "plt.axis('equal')\n",
        "plt.title('Percentage of Free Vs Paid Apps in store',fontsize = 10)"
      ],
      "metadata": {
        "id": "eyh_awhHmUew"
      },
      "execution_count": null,
      "outputs": []
    },
    {
      "cell_type": "markdown",
      "source": [
        "1.Nealy entire dataset has the data of people which didn't paid anything for the app nealy 93.1% whereas 6.9% only have downloaded paid apps"
      ],
      "metadata": {
        "id": "yi1Bgkvhvl5O"
      }
    },
    {
      "cell_type": "code",
      "source": [
        "plt.figure(figsize=(10,6))\n",
        "ax = sns.countplot(x=\"Type\", data=apps_, path_effects=[path_effects.SimplePatchShadow(),path_effects.Normal()],palette=('orange','blue'))\n",
        "plt.title('Count of Free Vs Paid Apps in store', fontsize=15)\n",
        "plt.xticks(rotation = 90)\n",
        "for bar in ax.patches:\n",
        "    ax.annotate(format(bar.get_height(), '.2f'),\n",
        "                   (bar.get_x() + bar.get_width() / 2,\n",
        "                    bar.get_height()), ha='center', va='center',\n",
        "                   size=13, xytext=(0, 8),\n",
        "                   textcoords='offset points')\n",
        "plt.show() "
      ],
      "metadata": {
        "id": "n_Lvmr6NykjO"
      },
      "execution_count": null,
      "outputs": []
    },
    {
      "cell_type": "markdown",
      "source": [
        "\n",
        "2. The count for the unpaid apps is 8275 whereas for paid it is barely 611 people."
      ],
      "metadata": {
        "id": "cLnH18-iv7jk"
      }
    },
    {
      "cell_type": "markdown",
      "source": [
        "##### 1. Why did you pick the specific chart?"
      ],
      "metadata": {
        "id": "fge-S5ZAYoAp"
      }
    },
    {
      "cell_type": "markdown",
      "source": [
        "Here i have used pieplot as we know A pie chart helps organize and show data as a percentage of a whole. True to the name, this kind of visualization uses a circle to represent the whole, and slices of that circle, or “pie”, to represent the specific categories that compose the whole A pie chart expresses a part-to-whole relationship in your data.  \n",
        "And i have used countplot to know the count of the paid versus not paid apps."
      ],
      "metadata": {
        "id": "5dBItgRVYoAp"
      }
    },
    {
      "cell_type": "markdown",
      "source": [
        "##### 2. What is/are the insight(s) found from the chart?"
      ],
      "metadata": {
        "id": "85gYPyotYoAp"
      }
    },
    {
      "cell_type": "markdown",
      "source": [
        "1. Nearly entire dataset has the data of people who didn't paid anything for the app nealy 93.1% whereas 6.9% only have downloaded paid apps\n",
        "2. The count for the unpaid apps is 8275 whereas for paid it is barely 611 people.."
      ],
      "metadata": {
        "id": "4jstXR6OYoAp"
      }
    },
    {
      "cell_type": "markdown",
      "source": [
        "##### 3. Will the gained insights help creating a positive business impact? \n",
        "Are there any insights that lead to negative growth? Justify with specific reason."
      ],
      "metadata": {
        "id": "RoGjAbkUYoAp"
      }
    },
    {
      "cell_type": "markdown",
      "source": [
        "We can clearly see that people prefer to download free apps more than paid apps so makers so try to make moslty free apps.."
      ],
      "metadata": {
        "id": "zfJ8IqMcYoAp"
      }
    },
    {
      "cell_type": "markdown",
      "source": [
        "#### Chart - 4"
      ],
      "metadata": {
        "id": "4Of9eVA-YrdM"
      }
    },
    {
      "cell_type": "code",
      "source": [
        "# Chart - 4 visualization code\n"
      ],
      "metadata": {
        "id": "irlUoxc8YrdO"
      },
      "execution_count": null,
      "outputs": []
    },
    {
      "cell_type": "code",
      "source": [
        "df_new2 = apps_.groupby('Rating')['Reviews'].mean().reset_index() # Taking group by of Rating with the mean on rating\n",
        "df_new2\n",
        "sns.lmplot(data=df_new2, x=\"Rating\", y=\"Reviews\")                          #indicating type of graph to line in matplotlib\n",
        "\n",
        "plt.title(' Average Rating vs Average Reviews')                  #Assigning tittle\n",
        "\n",
        "plt.xlabel('Rating')                                                          #Assigning label to x-axis\n",
        "plt.ylabel('Reviews')                                                         #Assigning label to y-axis\n",
        "\n",
        "plt.rcParams['figure.figsize'] = (10, 5)"
      ],
      "metadata": {
        "id": "UvB9Vv9QoCap"
      },
      "execution_count": null,
      "outputs": []
    },
    {
      "cell_type": "code",
      "source": [
        "df_new2 = apps_.groupby('Rating')['Reviews'].mean().reset_index() # Taking group by of Rating with the mean on rating\n",
        "df_new2\n",
        "sns.kdeplot(data=df_new2, x=\"Rating\", y=\"Reviews\",color='orange')                          #indicating type of graph to line in matplotlib\n",
        "\n",
        "plt.title(' Average Rating and Average Reviews')                  #Assigning tittle\n",
        "\n",
        "plt.xlabel('Rating')                                                          #Assigning label to x-axis\n",
        "plt.ylabel('Reviews')                                                         #Assigning label to y-axis\n",
        "\n",
        "plt.rcParams['figure.figsize'] = (20, 7)\n",
        "plt.xticks(rotation = 90)"
      ],
      "metadata": {
        "id": "pX0BEG2CoNbw"
      },
      "execution_count": null,
      "outputs": []
    },
    {
      "cell_type": "code",
      "source": [
        "fig,ax=plt.subplots(figsize=(22,7))\n",
        "ax=sns.barplot(data=apps_,x='Rating',y='Reviews',path_effects=[path_effects.SimplePatchShadow(),path_effects.Normal()], ci=None,color = 'cyan' )\n",
        "ax.set_title('average Rating and average Reviews', fontsize=18)\n",
        "for bar in ax.patches:\n",
        "    ax.annotate(format(bar.get_height(), '.2f'),\n",
        "                   (bar.get_x() + bar.get_width() / 2,\n",
        "                    bar.get_height()), ha='center', va='center',\n",
        "                   size=6, xytext=(0, 8),\n",
        "                   textcoords='offset points')\n",
        "    plt.xticks(rotation = 90)\n",
        "plt.pause(1)\n",
        "plt.show()"
      ],
      "metadata": {
        "id": "X9CFaS13pLqP"
      },
      "execution_count": null,
      "outputs": []
    },
    {
      "cell_type": "markdown",
      "source": [
        "1. Nearly average rating in the dataset is of 4.5 but the count is huge (1187391) and nearly 2 person have given the average lowest rating of 1.0"
      ],
      "metadata": {
        "id": "6ukmgAluwskC"
      }
    },
    {
      "cell_type": "code",
      "source": [
        "pd.DataFrame (apps_.groupby (['Year','Rating'])['Reviews'].count())"
      ],
      "metadata": {
        "id": "SRNcQHnAYUXG"
      },
      "execution_count": null,
      "outputs": []
    },
    {
      "cell_type": "markdown",
      "source": [
        "2. 2010 is the only year which got only 1 review for rating of 4.2 whereas the graph went on increasing from 2010 to 2018."
      ],
      "metadata": {
        "id": "KmXR1qCryLLU"
      }
    },
    {
      "cell_type": "code",
      "source": [
        "from matplotlib import cm\n",
        "fig,ax=plt.subplots(figsize=(22,7))\n",
        "ax=plt.axes(projection='3d')\n",
        "x_data=apps_['Rating']\n",
        "y_data=apps_['Reviews']\n",
        "z_data=apps_[['Year']]\n",
        "ax.legend()\n",
        "X,Y=np.meshgrid(x_data,y_data)\n",
        "ax.set_xlabel('Rating')\n",
        "ax.set_ylabel('Reviews')\n",
        "ax.set_zlabel('Year')\n",
        "ax.plot_surface(X,Y,z_data,shade=True,cmap=cm.twilight,\n",
        "                       linewidth=0, antialiased=False)\n",
        "plt.pause(0.01)\n",
        "plt.show()"
      ],
      "metadata": {
        "id": "eQdDuFjZUBHB"
      },
      "execution_count": null,
      "outputs": []
    },
    {
      "cell_type": "code",
      "source": [
        "pd.DataFrame (apps_.groupby (['Month','Rating'])['Reviews'].count())"
      ],
      "metadata": {
        "id": "Bz3iUW4rZzQe"
      },
      "execution_count": null,
      "outputs": []
    },
    {
      "cell_type": "markdown",
      "source": [
        "3. July month got the highest no of reviews 369 for the average rating of 4.4 "
      ],
      "metadata": {
        "id": "M6l7LMGFzB5a"
      }
    },
    {
      "cell_type": "code",
      "source": [
        "fig,ax=plt.subplots(figsize=(22,7))\n",
        "ax=plt.axes(projection='3d')\n",
        "x_data=apps_['Rating']\n",
        "y_data=apps_['Reviews']\n",
        "z_data=apps_[['Month']]\n",
        "ax.legend()\n",
        "X,Y=np.meshgrid(x_data,y_data)\n",
        "ax.set_xlabel('Rating')\n",
        "ax.set_ylabel('Reviews')\n",
        "ax.set_zlabel('Month')\n",
        "ax.plot_surface(X,Y,z_data,shade=True,cmap=cm.bone,\n",
        "                       linewidth=0, antialiased=False)\n",
        "plt.pause(0.01)\n",
        "plt.show()"
      ],
      "metadata": {
        "id": "cgyzaDGiUqeq"
      },
      "execution_count": null,
      "outputs": []
    },
    {
      "cell_type": "markdown",
      "source": [
        "##### 1. Why did you pick the specific chart?"
      ],
      "metadata": {
        "id": "iky9q4vBYrdO"
      }
    },
    {
      "cell_type": "markdown",
      "source": [
        "Here i have used lmplot,kdeplot and barplot just to get a clear relation between reviews and ratings column as how ratings affect reviews.."
      ],
      "metadata": {
        "id": "aJRCwT6DYrdO"
      }
    },
    {
      "cell_type": "markdown",
      "source": [
        "##### 2. What is/are the insight(s) found from the chart?"
      ],
      "metadata": {
        "id": "F6T5p64dYrdO"
      }
    },
    {
      "cell_type": "markdown",
      "source": [
        "1. Nearly average rating in the dataset is of 4.5 but the count is huge (1187391) and nearly 2 person have given the average lowest rating of 1.0\n",
        "2. 2010 is the only year which got only 1 review for rating of 4.2 whereas the graph went on increasing from 2010 to 2018.\n",
        "3. July month got the highest no of reviews 369 for the average rating of 4.4"
      ],
      "metadata": {
        "id": "Xx8WAJvtYrdO"
      }
    },
    {
      "cell_type": "markdown",
      "source": [
        "##### 3. Will the gained insights help creating a positive business impact? \n",
        "Are there any insights that lead to negative growth? Justify with specific reason."
      ],
      "metadata": {
        "id": "y-Ehk30pYrdP"
      }
    },
    {
      "cell_type": "markdown",
      "source": [
        "people have nealy given review to all the apps whos rating exceed 4 so it will help the maker to clearly improve those apps ... and make the necessary updates."
      ],
      "metadata": {
        "id": "jLNxxz7MYrdP"
      }
    },
    {
      "cell_type": "markdown",
      "source": [
        "#### Chart - 5"
      ],
      "metadata": {
        "id": "bamQiAODYuh1"
      }
    },
    {
      "cell_type": "code",
      "source": [
        "# Chart - 5 visualization code"
      ],
      "metadata": {
        "id": "TIJwrbroYuh3"
      },
      "execution_count": null,
      "outputs": []
    },
    {
      "cell_type": "code",
      "source": [
        "plt.xlabel(\"Size\")\n",
        "plt.title(\"Distribution of Size\")\n",
        "plt.hist(apps_['Size']);"
      ],
      "metadata": {
        "id": "qorEYeP9qxqv"
      },
      "execution_count": null,
      "outputs": []
    },
    {
      "cell_type": "code",
      "source": [
        "plt.figure(figsize=(22,10))\n",
        "sns.lineplot(data=apps_, x=\"Size\", y=\"Installs\",palette=\"ch:r=-.5,l=.75\")\n",
        "\n",
        "plt.title(' what size of app people prefer to install the most')                  #Assigning tittle\n",
        "\n",
        "plt.xlabel('Size')                                                          #Assigning label to x-axis\n",
        "plt.ylabel('Installs')                                                         #Assigning label to y-axis"
      ],
      "metadata": {
        "id": "Ap3WkHDesKTU"
      },
      "execution_count": null,
      "outputs": []
    },
    {
      "cell_type": "code",
      "source": [
        "plt.figure(figsize=(18,7))\n",
        "ax = sns.countplot(x=\"Size\", data=apps_, palette=\"PiYG\",path_effects=[path_effects.SimplePatchShadow(),path_effects.Normal()],order=apps_['Size'].value_counts().index[:30])\n",
        "plt.title('Top 30 most Sizes of apps to be downloaded in the Playstore', fontsize=15)\n",
        "plt.xticks(rotation = 90)\n",
        "for bar in ax.patches:\n",
        "    ax.annotate(format(bar.get_height(), '.2f'),\n",
        "                   (bar.get_x() + bar.get_width() / 2,\n",
        "                    bar.get_height()), ha='center', va='center',\n",
        "                   size=7, xytext=(0, 8),\n",
        "                   textcoords='offset points')\n",
        "plt.show() "
      ],
      "metadata": {
        "id": "bwRCv-IQ2i1J"
      },
      "execution_count": null,
      "outputs": []
    },
    {
      "cell_type": "markdown",
      "source": [
        "1. People preferance is small size of application the count for 1 MB size is 1472 whereas it keeps on decreasing as the size of the app increases"
      ],
      "metadata": {
        "id": "1Yk-0IjFzr8J"
      }
    },
    {
      "cell_type": "markdown",
      "source": [
        "##### 1. Why did you pick the specific chart?"
      ],
      "metadata": {
        "id": "QHF8YVU7Yuh3"
      }
    },
    {
      "cell_type": "markdown",
      "source": [
        "Here I have used histplot,lineplot and countplot as we know we can clearly see our feature distribution in all aspects as we know histogram to summarize discrete or continuous data that are measured on an interval scale. It is often used to illustrate the major features of the distribution of the data in a convenient form whereas lineplotdisplays quantitative values over a specified time interval and countplot to count the values.."
      ],
      "metadata": {
        "id": "dcxuIMRPYuh3"
      }
    },
    {
      "cell_type": "markdown",
      "source": [
        "##### 2. What is/are the insight(s) found from the chart?"
      ],
      "metadata": {
        "id": "GwzvFGzlYuh3"
      }
    },
    {
      "cell_type": "markdown",
      "source": [
        "1. People preferance is small size of application the count for 1 MB size is 1472 whereas it keeps on decreasing as the size of the app increases"
      ],
      "metadata": {
        "id": "uyqkiB8YYuh3"
      }
    },
    {
      "cell_type": "markdown",
      "source": [
        "##### 3. Will the gained insights help creating a positive business impact? \n",
        "Are there any insights that lead to negative growth? Justify with specific reason."
      ],
      "metadata": {
        "id": "qYpmQ266Yuh3"
      }
    },
    {
      "cell_type": "markdown",
      "source": [
        "People prefer to download the app which are low in size"
      ],
      "metadata": {
        "id": "_WtzZ_hCYuh4"
      }
    },
    {
      "cell_type": "markdown",
      "source": [
        "#### Chart - 6"
      ],
      "metadata": {
        "id": "OH-pJp9IphqM"
      }
    },
    {
      "cell_type": "code",
      "source": [
        "apps_.sample(3)"
      ],
      "metadata": {
        "id": "Z9wMJWhu4fWq"
      },
      "execution_count": null,
      "outputs": []
    },
    {
      "cell_type": "code",
      "source": [
        "# Chart - 6 visualization code\n",
        "df_new = pd.DataFrame (apps_.groupby('Year')['Installs'].sum().reset_index()) \n",
        "df_new"
      ],
      "metadata": {
        "id": "kuRf4wtuphqN"
      },
      "execution_count": null,
      "outputs": []
    },
    {
      "cell_type": "code",
      "source": [
        "fig,ax=plt.subplots(figsize=(20,7))\n",
        "ax=sns.barplot(data=df_new,x='Year',y='Installs',path_effects=[path_effects.SimplePatchShadow(),path_effects.Normal()], ci=None )\n",
        "ax.set_title('In which year people have downloaded more apps i.e trends in apps download ', fontsize=18)\n",
        "for bar in ax.patches:\n",
        "    ax.annotate(format(bar.get_height(), '.2f'),\n",
        "                   (bar.get_x() + bar.get_width() / 2,\n",
        "                    bar.get_height()), ha='center', va='center',\n",
        "                   size=9, xytext=(0, 8),\n",
        "                   textcoords='offset points')\n",
        "    plt.xticks(rotation = 90)"
      ],
      "metadata": {
        "id": "QWhwCQwY4rpo"
      },
      "execution_count": null,
      "outputs": []
    },
    {
      "cell_type": "markdown",
      "source": [
        "1. In 2010 applications downloaded were 100000 whereas as the year moved it went on increasing and in 2018 it nearly touched 105 Billions downloads "
      ],
      "metadata": {
        "id": "26V_o-fu0M74"
      }
    },
    {
      "cell_type": "code",
      "source": [
        "apps_['Year'].value_counts().plot(kind='pie',shadow=True,autopct='%1.1f%%',colors = ( \"#97FFFF\", \"#00688B\",'#ADD8E6'),figsize=(15,7),startangle=60,explode=[0.05,0.6,0.07,0.9,1.1,1.2,1.4,1.6,1.8])\n",
        "plt.axis('equal')\n",
        "plt.title('Apps downloaded yearwise',fontsize = 10)"
      ],
      "metadata": {
        "id": "qCBnLH81MWbS"
      },
      "execution_count": null,
      "outputs": []
    },
    {
      "cell_type": "markdown",
      "source": [
        "2. Nearly 68.6% of the apps are downloaded in 2018 and 16.4% in 2017 which we can see and boost in downloads"
      ],
      "metadata": {
        "id": "Uv4KVgDb0qwm"
      }
    },
    {
      "cell_type": "code",
      "source": [
        "color_map = ['orange']\n",
        "plt.stackplot(apps_.Year, apps_.Installs,\n",
        "              labels=['Year','Installs'],colors=color_map)"
      ],
      "metadata": {
        "id": "NUOz0e3g-csA"
      },
      "execution_count": null,
      "outputs": []
    },
    {
      "cell_type": "code",
      "source": [
        "fig,ax=plt.subplots(figsize=(20,7))\n",
        "ax=sns.barplot(data=apps_,x='Year',y='Installs',palette=['#CD3278',\"#EEEE00\"],hue='Type',path_effects=[path_effects.SimplePatchShadow(),path_effects.Normal()], ci=None )\n",
        "ax.set_title('In which Year people have downloaded more apps i.e trends in apps download differentiated by type ', fontsize=18)\n",
        "for bar in ax.patches:\n",
        "    ax.annotate(format(bar.get_height(), '.2f'),\n",
        "                   (bar.get_x() + bar.get_width() / 2,\n",
        "                    bar.get_height()), ha='center', va='center',\n",
        "                   size=9, xytext=(0, 8),\n",
        "                   textcoords='offset points')"
      ],
      "metadata": {
        "id": "-ZyMAAd6RVc3"
      },
      "execution_count": null,
      "outputs": []
    },
    {
      "cell_type": "markdown",
      "source": [
        "3. But the scenario is all the apps are free count to be of 24134270 and barely people paid for the apps count to be 192375 .........."
      ],
      "metadata": {
        "id": "wjS5-xMB1GMP"
      }
    },
    {
      "cell_type": "code",
      "source": [
        "df_new_month = pd.DataFrame (apps_.groupby('Month')['Installs'].sum().reset_index()) \n",
        "df_new_month"
      ],
      "metadata": {
        "id": "D08hE3Qv6K2R"
      },
      "execution_count": null,
      "outputs": []
    },
    {
      "cell_type": "code",
      "source": [
        "import plotly.express as px\n",
        "df = px.data.gapminder().query(\"continent == 'Oceania'\")\n",
        "fig = px.line(df_new_month, x='Month', y='Installs')\n",
        "fig.show()"
      ],
      "metadata": {
        "id": "NXKC3sR5-nFB"
      },
      "execution_count": null,
      "outputs": []
    },
    {
      "cell_type": "markdown",
      "source": [
        "4. July is the month in which maximum downloads took place and the count is 67 Billions approx. and then a downfall happens went on to 57.27 Billions. going nealry to 1.14 Billions in December"
      ],
      "metadata": {
        "id": "VlBA6wAq1j0r"
      }
    },
    {
      "cell_type": "code",
      "source": [
        "apps_['Month'].value_counts().plot(kind='pie',shadow=True,autopct='%1.1f%%',colors = (\"blue\", \"orange\",'red','violet'),figsize=(10,8),startangle=60,explode=[0.1,0.3,0.4,0.05,0.6,0.07,0.9,1.1,1.2,1.4,1.6,1.8])\n",
        "plt.axis('equal')\n",
        "plt.title('Apps downloaded monthwise',fontsize = 10)"
      ],
      "metadata": {
        "id": "7MQgiSVZRE2L"
      },
      "execution_count": null,
      "outputs": []
    },
    {
      "cell_type": "code",
      "source": [
        "fig,ax=plt.subplots(figsize=(20,7))\n",
        "ax=sns.barplot(data=apps_,x='Month',y='Installs',palette='Blues',hue='Type',path_effects=[path_effects.SimplePatchShadow(),path_effects.Normal()], ci=None )\n",
        "ax.set_title('In which month people have downloaded more apps i.e trends in apps download differentiated by type ', fontsize=18)\n",
        "for bar in ax.patches:\n",
        "    ax.annotate(format(bar.get_height(), '.2f'),\n",
        "                   (bar.get_x() + bar.get_width() / 2,\n",
        "                    bar.get_height()), ha='center', va='center',\n",
        "                   size=9, xytext=(0, 8),\n",
        "                   textcoords='offset points')"
      ],
      "metadata": {
        "id": "N0z1byeUEGT4"
      },
      "execution_count": null,
      "outputs": []
    },
    {
      "cell_type": "markdown",
      "source": [
        "5. In August month no. for free apps downloaded by people hit all time high of 44360389 whereas for paid it was just 87172 amd the lowest was in september with (1843326,13184)"
      ],
      "metadata": {
        "id": "Lf4zNfe-2M5U"
      }
    },
    {
      "cell_type": "markdown",
      "source": [
        "##### 1. Why did you pick the specific chart?"
      ],
      "metadata": {
        "id": "bbFf2-_FphqN"
      }
    },
    {
      "cell_type": "markdown",
      "source": [
        "Here I have used many graphs such as countplot,barplot, pieplot,lineplot and stcakplot so that we can see the relation of our features in all the different aspects.."
      ],
      "metadata": {
        "id": "loh7H2nzphqN"
      }
    },
    {
      "cell_type": "markdown",
      "source": [
        "##### 2. What is/are the insight(s) found from the chart?"
      ],
      "metadata": {
        "id": "_ouA3fa0phqN"
      }
    },
    {
      "cell_type": "markdown",
      "source": [
        "1. In 2010 applications downloaded were 100000 whereas as the year moved it went on increasing and in 2018 it nearly touched 105 Billions downloads \n",
        "2. Nearly 68.6% of the apps are downloaded in 2018 and 16.4% in 2017 which we can see and boost in downloads\n",
        "3. But the scenario is all the apps are free count to be of 24134270 and barely people paid for the apps count to be 192375 ..........\n",
        "4. July is the month in which maximum downloads took place and the count is 67 Billions approx. and then a downfall happens went on to 57.27 Billions. going nealry to 1.14 Billions in December\n",
        "5. In August month no. for free apps downloaded by people hit all time high of 44360389 whereas for paid it was just 87172 amd the lowest was in september with (1843326,13184)"
      ],
      "metadata": {
        "id": "VECbqPI7phqN"
      }
    },
    {
      "cell_type": "markdown",
      "source": [
        "##### 3. Will the gained insights help creating a positive business impact? \n",
        "Are there any insights that lead to negative growth? Justify with specific reason."
      ],
      "metadata": {
        "id": "Seke61FWphqN"
      }
    },
    {
      "cell_type": "markdown",
      "source": [
        "As the number of phone users are increasing as we see the apps requirement also increaing so makers has to keep there apps up to date and keep on adding more and more updates so that people stick to the apps .. and more importantly they have to see the apps are not paid or there price are relatively low."
      ],
      "metadata": {
        "id": "DW4_bGpfphqN"
      }
    },
    {
      "cell_type": "markdown",
      "source": [
        "#### Chart - 7"
      ],
      "metadata": {
        "id": "PIIx-8_IphqN"
      }
    },
    {
      "cell_type": "code",
      "source": [
        "# Chart - 7 visualization code"
      ],
      "metadata": {
        "id": "lqAIGUfyphqO"
      },
      "execution_count": null,
      "outputs": []
    },
    {
      "cell_type": "code",
      "source": [
        "most_frequent_rating = apps_['Content Rating'].mode()\n",
        "df_new_rating = pd.DataFrame (apps_.groupby('Content Rating')['Installs'].sum().reset_index()) \n",
        "df_new_rating"
      ],
      "metadata": {
        "id": "EzzILOJB7ynv"
      },
      "execution_count": null,
      "outputs": []
    },
    {
      "cell_type": "code",
      "source": [
        "fig,ax=plt.subplots(figsize=(20,7))\n",
        "ax=sns.barplot(data=df_new_rating,x='Content Rating',y='Installs',palette=['#8E388E','#836FFF','#71C671'],path_effects=[path_effects.SimplePatchShadow(),path_effects.Normal()] )\n",
        "ax.set_title('people in which age groups have downloaded more apps i.e trends in apps download ', fontsize=18)\n",
        "\n",
        "for bar in ax.patches:\n",
        "    ax.annotate(format(bar.get_height(), '.2f'),\n",
        "                   (bar.get_x() + bar.get_width() / 2,\n",
        "                    bar.get_height()), ha='center', va='center',\n",
        "                   size=12, xytext=(0, 8),\n",
        "                   textcoords='offset points')\n",
        "    plt.xticks(rotation = 90)\n"
      ],
      "metadata": {
        "id": "xU18qe4s8R3_"
      },
      "execution_count": null,
      "outputs": []
    },
    {
      "cell_type": "code",
      "source": [
        "import plotly.express as px\n",
        "fig = px.line(df_new_rating, x='Content Rating', y='Installs',color='Content Rating', symbol=\"Content Rating\")\n",
        "fig.show()"
      ],
      "metadata": {
        "id": "vfJP9Tp489jI"
      },
      "execution_count": null,
      "outputs": []
    },
    {
      "cell_type": "markdown",
      "source": [
        "1. The highest content rating is given by Everyone category (100.222 Billions) whereas the lowest was from unrated category (50 Thousand)"
      ],
      "metadata": {
        "id": "LOQ_422g3vlK"
      }
    },
    {
      "cell_type": "markdown",
      "source": [
        "##### 1. Why did you pick the specific chart?"
      ],
      "metadata": {
        "id": "t27r6nlMphqO"
      }
    },
    {
      "cell_type": "markdown",
      "source": [
        "Here i have used specifically countplot and line graph as i want to see that which category of people have downloaded the apps most."
      ],
      "metadata": {
        "id": "iv6ro40sphqO"
      }
    },
    {
      "cell_type": "markdown",
      "source": [
        "##### 2. What is/are the insight(s) found from the chart?"
      ],
      "metadata": {
        "id": "r2jJGEOYphqO"
      }
    },
    {
      "cell_type": "markdown",
      "source": [
        "1. The highest content rating is given by Everyone category (100.222 Billions) whereas the lowest was from unrated category (50 Thousand)"
      ],
      "metadata": {
        "id": "Po6ZPi4hphqO"
      }
    },
    {
      "cell_type": "markdown",
      "source": [
        "##### 3. Will the gained insights help creating a positive business impact? \n",
        "Are there any insights that lead to negative growth? Justify with specific reason."
      ],
      "metadata": {
        "id": "b0JNsNcRphqO"
      }
    },
    {
      "cell_type": "markdown",
      "source": [
        "People do prefer apps as we can see they have realively download apps in billions. In that mostly Teens have downloaded the apps more so makers has to make apps teens friendly."
      ],
      "metadata": {
        "id": "xvSq8iUTphqO"
      }
    },
    {
      "cell_type": "markdown",
      "source": [
        "#### Chart - 8"
      ],
      "metadata": {
        "id": "BZR9WyysphqO"
      }
    },
    {
      "cell_type": "code",
      "source": [
        "# Chart - 8 visualization code"
      ],
      "metadata": {
        "id": "TdPTWpAVphqO"
      },
      "execution_count": null,
      "outputs": []
    },
    {
      "cell_type": "code",
      "source": [
        "apps_['Price'].value_counts()"
      ],
      "metadata": {
        "id": "YcewDXrWAARZ"
      },
      "execution_count": null,
      "outputs": []
    },
    {
      "cell_type": "code",
      "source": [
        "plt.figure(figsize=(22,7))\n",
        "ax = sns.countplot(x=\"Price\", data=apps_, palette=\"crest\",path_effects=[path_effects.SimplePatchShadow(),path_effects.Normal()],order=apps_['Price'].value_counts().index[:73])\n",
        "plt.title('People which have paid for the apps', fontsize=15)\n",
        "plt.xticks(rotation = 90)\n",
        "for bar in ax.patches:\n",
        "    ax.annotate(format(bar.get_height(), '.2f'),\n",
        "                   (bar.get_x() + bar.get_width() / 2,\n",
        "                    bar.get_height()), ha='center', va='center',\n",
        "                   size=6, xytext=(0, 8),\n",
        "                   textcoords='offset points')\n",
        "plt.show() "
      ],
      "metadata": {
        "id": "gjT9pVcXA3OC"
      },
      "execution_count": null,
      "outputs": []
    },
    {
      "cell_type": "markdown",
      "source": [
        "1. Nealy 8275 apps rice were kept 0.. whereas as the prices where added to the apps the number of downloads show a downfall around average of 5 people for each paid app.."
      ],
      "metadata": {
        "id": "lbtpq0Hkt0yR"
      }
    },
    {
      "cell_type": "code",
      "source": [
        "apps_['Price'].value_counts()[1:].plot(kind='pie',shadow=True,autopct='%1.1f%%',colors = ('#7FFFD4','#F0FFFF','#0000FF','#98F5FF'),figsize=(15,7))\n",
        "plt.title('Percentage People which have paid for the apps in playstore.',fontsize = 10)"
      ],
      "metadata": {
        "id": "4KNMurtzB114"
      },
      "execution_count": null,
      "outputs": []
    },
    {
      "cell_type": "markdown",
      "source": [
        "2. After ignoring the percentage for unpaid apps download we can see only 1.7% for the poeple have paid for the susequent app price.."
      ],
      "metadata": {
        "id": "jDN2huKLuVSI"
      }
    },
    {
      "cell_type": "markdown",
      "source": [
        "##### 1. Why did you pick the specific chart?"
      ],
      "metadata": {
        "id": "jj7wYXLtphqO"
      }
    },
    {
      "cell_type": "markdown",
      "source": [
        "Here i have used countplot to know the count of people which have paid for the apps.. and pieplot to know the percentage of people which have paid for the app."
      ],
      "metadata": {
        "id": "Ob8u6rCTphqO"
      }
    },
    {
      "cell_type": "markdown",
      "source": [
        "##### 2. What is/are the insight(s) found from the chart?"
      ],
      "metadata": {
        "id": "eZrbJ2SmphqO"
      }
    },
    {
      "cell_type": "markdown",
      "source": [
        "1. Nealy 8275 apps price were kept 0.. whereas as the prices where added to the apps the number of downloads show a downfall around average of 5 people for each paid app..\n",
        "2. After ignoring the percentage for unpaid apps download we can see only 1.7% for the poeple have paid for the susequent app price..\n"
      ],
      "metadata": {
        "id": "mZtgC_hjphqO"
      }
    },
    {
      "cell_type": "markdown",
      "source": [
        "##### 3. Will the gained insights help creating a positive business impact? \n",
        "Are there any insights that lead to negative growth? Justify with specific reason."
      ],
      "metadata": {
        "id": "rFu4xreNphqO"
      }
    },
    {
      "cell_type": "markdown",
      "source": [
        "People dont like to pay for the app so makers should try to make free apps more as compared to paid apps."
      ],
      "metadata": {
        "id": "ey_0qi68phqO"
      }
    },
    {
      "cell_type": "markdown",
      "source": [
        "#### Chart - 9"
      ],
      "metadata": {
        "id": "YJ55k-q6phqO"
      }
    },
    {
      "cell_type": "code",
      "source": [
        "# Chart - 9 visualization code"
      ],
      "metadata": {
        "id": "B2aS4O1ophqO"
      },
      "execution_count": null,
      "outputs": []
    },
    {
      "cell_type": "code",
      "source": [
        "apps_.sample(3)"
      ],
      "metadata": {
        "id": "nILSNZ9BFXnE"
      },
      "execution_count": null,
      "outputs": []
    },
    {
      "cell_type": "code",
      "source": [
        "most_frequent_Android_Ver = apps_['Android Ver'].mode()\n",
        "df_new_AndroidVer = pd.DataFrame (apps_.groupby('Android Ver')['Installs'].sum().reset_index()) \n",
        "df_new_AndroidVer"
      ],
      "metadata": {
        "id": "xjiYnJ_UFVKn"
      },
      "execution_count": null,
      "outputs": []
    },
    {
      "cell_type": "code",
      "source": [
        "fig,ax=plt.subplots(figsize=(22,7))\n",
        "ax=sns.barplot(data=df_new_AndroidVer,x='Android Ver',y='Installs',path_effects=[path_effects.SimplePatchShadow(),path_effects.Normal()])\n",
        "sns.color_palette(\"Greens\")\n",
        "ax.set_title('Currently which andriod version people are using', fontsize=18)\n",
        "for bar in ax.patches:\n",
        "    ax.annotate(format(bar.get_height(), '.2f'),\n",
        "                   (bar.get_x() + bar.get_width() / 2,\n",
        "                    bar.get_height()), ha='center', va='center',\n",
        "                   size=10, xytext=(0, 8),\n",
        "                   textcoords='offset points')\n",
        "    plt.xticks(rotation = 90)"
      ],
      "metadata": {
        "id": "yxqTe_hmZX9G"
      },
      "execution_count": null,
      "outputs": []
    },
    {
      "cell_type": "code",
      "source": [
        "fig = px.line(df_new_AndroidVer, x='Android Ver', y='Installs',color='Android Ver', symbol=\"Android Ver\")\n",
        "ax.set_title('Currently which andriod version people are using', fontsize=18)\n",
        "fig.show()"
      ],
      "metadata": {
        "id": "fKUOXMcvF16X"
      },
      "execution_count": null,
      "outputs": []
    },
    {
      "cell_type": "markdown",
      "source": [
        "1. Andriod ver 4 got the maximum number of installs around 139.4069 billions whereas the lowest is for version 8 around 1.51 millions."
      ],
      "metadata": {
        "id": "bLoA7fEIu4AC"
      }
    },
    {
      "cell_type": "code",
      "source": [
        "apps_['Android Ver'].value_counts()[:].plot(kind='pie',shadow=True,autopct='%1.1f%%',colors = ( \"#CD3278\",'red'),figsize=(15,7),explode=[0.1,0.5,0.9,1.3,1.6,1.7,2,2.2])\n",
        "plt.title('Percentage of People for which andriod ver they are using',fontsize = 10)"
      ],
      "metadata": {
        "id": "7pFWAiIpTPQr"
      },
      "execution_count": null,
      "outputs": []
    },
    {
      "cell_type": "markdown",
      "source": [
        "2. Nearly 76.3% of the installs happened was for ver 4 and then the lowest for ver 8 around 0.1%"
      ],
      "metadata": {
        "id": "XNW2pXymvRC8"
      }
    },
    {
      "cell_type": "code",
      "source": [
        "fig,ax=plt.subplots(figsize=(20,7))\n",
        "ax=sns.barplot(data=apps_,x='Android Ver',y='Installs',palette='vlag',hue='Type',path_effects=[path_effects.SimplePatchShadow(),path_effects.Normal()], ci=None )\n",
        "ax.set_title('Android Ver people using differentiated by their type ', fontsize=18)\n",
        "for bar in ax.patches:\n",
        "    ax.annotate(format(bar.get_height(), '.2f'),\n",
        "                   (bar.get_x() + bar.get_width() / 2,\n",
        "                    bar.get_height()), ha='center', va='center',\n",
        "                   size=9, xytext=(0, 8),\n",
        "                   textcoords='offset points')"
      ],
      "metadata": {
        "id": "Skvy3upmUrFI"
      },
      "execution_count": null,
      "outputs": []
    },
    {
      "cell_type": "markdown",
      "source": [
        "3. Andriod ver apps got the maximum download and 21692710 were unpiad apps while 148539 were the paid apps..."
      ],
      "metadata": {
        "id": "DJ_FQgX4wsZD"
      }
    },
    {
      "cell_type": "code",
      "source": [
        "fig = plt.figure()\n",
        "ax = fig.add_subplot(projection='3d')\n",
        "\n",
        "colors = ['r']\n",
        "yticks = [0]\n",
        "for c, k in zip(colors, yticks):\n",
        "    # Generate the random data for the y=k 'layer'.\n",
        "    xs = apps_['Android Ver']\n",
        "    ys = apps_['Installs']\n",
        "\n",
        "    # You can provide either a single color or an array with the same length as\n",
        "    # xs and ys. To demonstrate this, we color the first bar of each set cyan.\n",
        "    cs = [c] * len(xs)\n",
        "    cs[0] = 'c'\n",
        "\n",
        "    # Plot the bar graph given by xs and ys on the plane y=k with 80% opacity.\n",
        "    ax.bar(xs, ys, zs=k, zdir='y', color=cs, alpha=0.8)\n",
        "\n",
        "ax.set_xlabel('Android Ver')\n",
        "ax.set_ylabel('Installs')\n",
        "ax.set_zlabel('count')\n",
        "\n",
        "# On the y-axis let's only label the discrete values that we have data for.\n",
        "ax.set_yticks(yticks)\n",
        "\n",
        "plt.show()"
      ],
      "metadata": {
        "id": "ZB69Nzcmx1BV"
      },
      "execution_count": null,
      "outputs": []
    },
    {
      "cell_type": "code",
      "source": [
        "df_new_CurrentVer = pd.DataFrame (apps_.groupby('Current Ver')['Installs'].sum().reset_index()) \n",
        "df_new_CurrentVer"
      ],
      "metadata": {
        "id": "LxWl7bq0TCSn"
      },
      "execution_count": null,
      "outputs": []
    },
    {
      "cell_type": "code",
      "source": [
        "plt.figure(figsize=(18,7))\n",
        "ax = sns.countplot(x=\"Current Ver\", data=apps_, palette=\"bright\",path_effects=[path_effects.SimplePatchShadow(),path_effects.Normal()],order=apps_['Current Ver'].value_counts().index[:30])\n",
        "plt.title('Curently which version people are using', fontsize=15)\n",
        "plt.xticks(rotation = 90)\n",
        "for bar in ax.patches:\n",
        "    ax.annotate(format(bar.get_height(), '.2f'),\n",
        "                   (bar.get_x() + bar.get_width() / 2,\n",
        "                    bar.get_height()), ha='center', va='center',\n",
        "                   size=7, xytext=(0, 8),\n",
        "                   textcoords='offset points')\n",
        "plt.show() "
      ],
      "metadata": {
        "id": "BS07IPWcWAKH"
      },
      "execution_count": null,
      "outputs": []
    },
    {
      "cell_type": "markdown",
      "source": [
        "1. Currently people are using 1 the most around 4687 and the number goes on decreasing version0 around 1000 installs and count of 4 people"
      ],
      "metadata": {
        "id": "b0X0knT-xHwm"
      }
    },
    {
      "cell_type": "code",
      "source": [
        "import plotly.express as px\n",
        "fig = px.line(df_new_CurrentVer, x='Current Ver', y='Installs')\n",
        "fig.show()"
      ],
      "metadata": {
        "id": "hKSkmdVZZEdw"
      },
      "execution_count": null,
      "outputs": []
    },
    {
      "cell_type": "markdown",
      "source": [
        "2. 1 got the maximumm installs around 103.58 billions and can be clearly seen as the most prefered current version to be used"
      ],
      "metadata": {
        "id": "pbLm6HN2zqkW"
      }
    },
    {
      "cell_type": "code",
      "source": [
        "fig,ax=plt.subplots(figsize=(15,40))\n",
        "ax=sns.barplot(data=apps_,y='Current Ver',x='Installs',palette='Spectral',hue='Type',path_effects=[path_effects.SimplePatchShadow(),path_effects.Normal()], ci=None )\n",
        "ax.set_title('Current Ver people using differentiated by their type ', fontsize=18)\n",
        "\n",
        "plt.xticks(rotation = 90)"
      ],
      "metadata": {
        "id": "lz6df95TVPl4"
      },
      "execution_count": null,
      "outputs": []
    },
    {
      "cell_type": "markdown",
      "source": [
        "##### 1. Why did you pick the specific chart?"
      ],
      "metadata": {
        "id": "gCFgpxoyphqP"
      }
    },
    {
      "cell_type": "markdown",
      "source": [
        "Here i have used countplot,barplot,linegraph and pieplot to know the count, percentage and pople which have paid for which andriod ver and current ver"
      ],
      "metadata": {
        "id": "TVxDimi2phqP"
      }
    },
    {
      "cell_type": "markdown",
      "source": [
        "##### 2. What is/are the insight(s) found from the chart?"
      ],
      "metadata": {
        "id": "OVtJsKN_phqQ"
      }
    },
    {
      "cell_type": "markdown",
      "source": [
        "1. Currently people are using 1 the most around 4687 and the number goes on decreasing version0 around 1000 installs and count of 4 people\n",
        "2. 1 got the maximumm installs around 103.58 billions and can be clearly seen as the most prefered current version to be used\n",
        "\n",
        "\n",
        "1. Andriod ver 4 got the maximum number of installs around 139.4069 billions whereas the lowest is for version 8 around 1.51 millions.\n",
        "2. Nearly 76.3% of the installs happened was for ver 4 and then the lowest for ver 8 around 0.1%\n",
        "3. Andriod ver apps got the maximum download and 21692710 were unpiad apps while 148539 were the paid apps...\n"
      ],
      "metadata": {
        "id": "ngGi97qjphqQ"
      }
    },
    {
      "cell_type": "markdown",
      "source": [
        "##### 3. Will the gained insights help creating a positive business impact? \n",
        "Are there any insights that lead to negative growth? Justify with specific reason."
      ],
      "metadata": {
        "id": "lssrdh5qphqQ"
      }
    },
    {
      "cell_type": "markdown",
      "source": [
        "People are loving andriod ver 4 and currently people are using 1 as the most ver in there phones...so accordingly makers should manage the prodcution of apps in these two types of ver"
      ],
      "metadata": {
        "id": "tBpY5ekJphqQ"
      }
    },
    {
      "cell_type": "markdown",
      "source": [
        "#### Chart - 10"
      ],
      "metadata": {
        "id": "U2RJ9gkRphqQ"
      }
    },
    {
      "cell_type": "code",
      "source": [
        "# Chart - 10 visualization code"
      ],
      "metadata": {
        "id": "GM7a4YP4phqQ"
      },
      "execution_count": null,
      "outputs": []
    },
    {
      "cell_type": "code",
      "source": [
        "users_.sample(4)"
      ],
      "metadata": {
        "id": "dxG1XVu3cNuR"
      },
      "execution_count": null,
      "outputs": []
    },
    {
      "cell_type": "code",
      "source": [
        "# 'Sentiment_Subjectivity' using matplotlib.\n",
        "plt.figure(figsize=(18,7))\n",
        "ax = sns.distplot(users_['Sentiment_Subjectivity'])\n",
        "plt.grid(True)\n",
        "plt.show()\n"
      ],
      "metadata": {
        "id": "GhlGdN4KcjZZ"
      },
      "execution_count": null,
      "outputs": []
    },
    {
      "cell_type": "markdown",
      "source": [
        "1. Our sentiment_subjectivity is more between 0.4 to 0.6 "
      ],
      "metadata": {
        "id": "ub9jRqJVHndb"
      }
    },
    {
      "cell_type": "code",
      "source": [
        "#'A Pie Chart Representing Percentage of Review Sentiments'\n",
        "counts = list(users_['Sentiment'].value_counts())       #counts\n",
        "\n",
        "labels ='Positive Reviews', 'Negetive Reviews','Neutral Reviews'                      #reviews\n",
        "colors = ['#7A67EE','#8B7B8B',\"#CD3278\"]\n",
        "plt.rcParams['font.size'] = 12\n",
        "\n",
        "plt.rcParams['figure.figsize'] = (9,9)\n",
        "\n",
        "plt.pie(counts, labels=labels,shadow=True, colors=colors ,explode=[0,0.5,0.8], autopct=\"%.3f%%\")\n",
        "\n",
        "plt.title('A Pie Chart Representing Percentage of Review Sentiments', fontsize=20)\n",
        "\n",
        "plt.axis('off')\n",
        "\n",
        "plt.legend()\n",
        " \n",
        "plt.show()"
      ],
      "metadata": {
        "id": "9qD6OlpzeWbB"
      },
      "execution_count": null,
      "outputs": []
    },
    {
      "cell_type": "markdown",
      "source": [
        "1. positive review  is around 64.11%, negative reviews is around 22.099% and neutral are around 13.781% in our dataset\n",
        "\n"
      ],
      "metadata": {
        "id": "eEZYIgqj9r2W"
      }
    },
    {
      "cell_type": "code",
      "source": [
        "plt.figure(figsize=(13,7))\n",
        "ax = sns.countplot(x=\"Sentiment\", data=users_, palette=\"bright\",path_effects=[path_effects.SimplePatchShadow(),path_effects.Normal()],order=users_['Sentiment'].value_counts().index[:])\n",
        "plt.title('Count of Review Sentiments ', fontsize=15)\n",
        "plt.xticks(rotation = 90)\n",
        "for bar in ax.patches:\n",
        "    ax.annotate(format(bar.get_height(), '.2f'),\n",
        "                   (bar.get_x() + bar.get_width() / 2,\n",
        "                    bar.get_height()), ha='center', va='center',\n",
        "                   size=15, xytext=(0, 8),\n",
        "                   textcoords='offset points')\n",
        "plt.grid(True)\n",
        "plt.show()"
      ],
      "metadata": {
        "id": "MrAL21jYlxZx"
      },
      "execution_count": null,
      "outputs": []
    },
    {
      "cell_type": "markdown",
      "source": [
        "2. Positive reviews counts as 23998 while negative is around 8271 neutral falls at 5158"
      ],
      "metadata": {
        "id": "MPHcc4PQHzRE"
      }
    },
    {
      "cell_type": "markdown",
      "source": [
        "##### 1. Why did you pick the specific chart?"
      ],
      "metadata": {
        "id": "1M8mcRywphqQ"
      }
    },
    {
      "cell_type": "markdown",
      "source": [
        "Here i have used histogram, countplot and pieplot to now the percentage and count of the reviews and histogram to now the distribution of the subjectivity as we know quantifies the amount of personal opinion and factual information contained in the text. The higher subjectivity means that the text contains personal opinion rather than factual information"
      ],
      "metadata": {
        "id": "8agQvks0phqQ"
      }
    },
    {
      "cell_type": "markdown",
      "source": [
        "\n",
        "\n",
        "\n",
        " 2. What is/are the insight(s) found from the chart?"
      ],
      "metadata": {
        "id": "tgIPom80phqQ"
      }
    },
    {
      "cell_type": "markdown",
      "source": [
        "1. Our sentiment_subjectivity is more between 0.4 to 0.6 \n",
        "\n",
        "1. positive review  is around 64.11%, negative reviews is around 22.099% and neutral are around 13.781% in our dataset\n",
        "2. Positive reviews counts as 23998 while negative is around 8271 neutral falls at 5158"
      ],
      "metadata": {
        "id": "Qp13pnNzphqQ"
      }
    },
    {
      "cell_type": "markdown",
      "source": [
        "##### 3. Will the gained insights help creating a positive business impact? \n",
        "Are there any insights that lead to negative growth? Justify with specific reason."
      ],
      "metadata": {
        "id": "JMzcOPDDphqR"
      }
    },
    {
      "cell_type": "markdown",
      "source": [
        "People which have used apps have enjoyed it and given more positive review and there as some negative reviews, so the makers should consider their reviews and make the necessary updates."
      ],
      "metadata": {
        "id": "R4Ka1PC2phqR"
      }
    },
    {
      "cell_type": "markdown",
      "source": [
        "#### Chart - 11"
      ],
      "metadata": {
        "id": "x-EpHcCOp1ci"
      }
    },
    {
      "cell_type": "code",
      "source": [
        "# Chart - 11 visualization code"
      ],
      "metadata": {
        "id": "mAQTIvtqp1cj"
      },
      "execution_count": null,
      "outputs": []
    },
    {
      "cell_type": "code",
      "source": [
        "apps_users_df.sample(4)"
      ],
      "metadata": {
        "id": "twYw8XAGm78x"
      },
      "execution_count": null,
      "outputs": []
    },
    {
      "cell_type": "code",
      "source": [
        "sns.kdeplot(data=apps_users_df, x=\"Sentiment_Polarity\", hue=\"Type\", multiple=\"fill\")"
      ],
      "metadata": {
        "id": "-Q4qvUQtSEkP"
      },
      "execution_count": null,
      "outputs": []
    },
    {
      "cell_type": "code",
      "source": [
        "sns.pointplot(data=apps_users_df, x=\"Type\", y=\"Sentiment_Polarity\",dodge=True)\n",
        "plt.grid(True)      "
      ],
      "metadata": {
        "id": "efU3BDwGUexz"
      },
      "execution_count": null,
      "outputs": []
    },
    {
      "cell_type": "markdown",
      "source": [
        "1. Nearly Sentiment polarity for the free apps are around 99% and for paid it can be seen around 1%"
      ],
      "metadata": {
        "id": "lEOgh8tq8w7D"
      }
    },
    {
      "cell_type": "markdown",
      "source": [
        "##### 1. Why did you pick the specific chart?"
      ],
      "metadata": {
        "id": "X_VqEhTip1ck"
      }
    },
    {
      "cell_type": "markdown",
      "source": [
        "Here i have used kde,pointplot to know the distribution of our free vs paid apps."
      ],
      "metadata": {
        "id": "-vsMzt_np1ck"
      }
    },
    {
      "cell_type": "markdown",
      "source": [
        "##### 2. What is/are the insight(s) found from the chart?"
      ],
      "metadata": {
        "id": "8zGJKyg5p1ck"
      }
    },
    {
      "cell_type": "markdown",
      "source": [
        "1. Nearly Sentiment polarity for the free apps are around 99% and for paid it can be seen around 1%"
      ],
      "metadata": {
        "id": "ZYdMsrqVp1ck"
      }
    },
    {
      "cell_type": "markdown",
      "source": [
        "##### 3. Will the gained insights help creating a positive business impact? \n",
        "Are there any insights that lead to negative growth? Justify with specific reason."
      ],
      "metadata": {
        "id": "PVzmfK_Ep1ck"
      }
    },
    {
      "cell_type": "markdown",
      "source": [
        "Mostly people downloaded free apps so makers should keep price of the app low or keep it free."
      ],
      "metadata": {
        "id": "druuKYZpp1ck"
      }
    },
    {
      "cell_type": "markdown",
      "source": [
        "#### Chart - 12"
      ],
      "metadata": {
        "id": "n3dbpmDWp1ck"
      }
    },
    {
      "cell_type": "code",
      "source": [
        "# Chart - 12 visualization code"
      ],
      "metadata": {
        "id": "bwevp1tKp1ck"
      },
      "execution_count": null,
      "outputs": []
    },
    {
      "cell_type": "code",
      "source": [
        "apps_users_df['Sentiment']=apps_users_df['Sentiment'].replace({\"Positive\":1,\"Negative\":-1,\"Neutral\":0})"
      ],
      "metadata": {
        "id": "BIChddNOXwD7"
      },
      "execution_count": null,
      "outputs": []
    },
    {
      "cell_type": "code",
      "source": [
        "sentiment_analysis2_df = pd.DataFrame (apps_users_df.groupby (['Category','Sentiment'])['Category'].count().unstack())\n",
        "sentiment_analysis2_df"
      ],
      "metadata": {
        "id": "ndEsGvhmaeLV"
      },
      "execution_count": null,
      "outputs": []
    },
    {
      "cell_type": "code",
      "source": [
        "sentiment_analysis2_df.reset_index(inplace=True)\n",
        "\n",
        "sentiment_analysis_melt2 = sentiment_analysis2_df.melt (id_vars=['Category'],\n",
        "                                                         var_name='Sentiment',\n",
        "                                                         value_name='count')\n",
        "sentiment_analysis_melt2 "
      ],
      "metadata": {
        "id": "9lKSCApSbGvk"
      },
      "execution_count": null,
      "outputs": []
    },
    {
      "cell_type": "code",
      "source": [
        "\n",
        "fig2 = px.line(sentiment_analysis_melt2,x='Category',y='count',color='Sentiment',title='Sentiment Analysis on each Category',width=2000,height=600)\n",
        "fig2.show()\n"
      ],
      "metadata": {
        "id": "M67lswWcauw5"
      },
      "execution_count": null,
      "outputs": []
    },
    {
      "cell_type": "markdown",
      "source": [
        "1. Category game got the highest number of sentiments for positive it is 9.98k, negative 6542 and neutral is around 748.. "
      ],
      "metadata": {
        "id": "4rWjimLP5MmR"
      }
    },
    {
      "cell_type": "code",
      "source": [
        "plt.figure(figsize=(19,7))\n",
        "sns.barplot(data=sentiment_analysis_melt2, x=\"Category\", y=\"count\",path_effects=[path_effects.SimplePatchShadow(),path_effects.Normal()], hue=\"Sentiment\",palette=['#00FF7F','#8E388E','#C1FFC1'])\n",
        "plt.grid(True)\n",
        "plt.xticks(rotation = 90)"
      ],
      "metadata": {
        "id": "raicQM8fftlm"
      },
      "execution_count": null,
      "outputs": []
    },
    {
      "cell_type": "code",
      "source": [
        "sentiment_analysis2_df1 = pd.DataFrame (apps_users_df.groupby (['Genres','Sentiment'])['Genres'].count().unstack())\n",
        "sentiment_analysis2_df1"
      ],
      "metadata": {
        "id": "kgIHpfIvc88d"
      },
      "execution_count": null,
      "outputs": []
    },
    {
      "cell_type": "code",
      "source": [
        "sentiment_analysis2_df1.reset_index(inplace=True)\n",
        "\n",
        "sentiment_analysis_melt3 = sentiment_analysis2_df1.melt (id_vars=['Genres'],\n",
        "                                                         var_name='Sentiment',\n",
        "                                                         value_name='count')\n",
        "sentiment_analysis_melt3"
      ],
      "metadata": {
        "id": "BTOlkJ9odExh"
      },
      "execution_count": null,
      "outputs": []
    },
    {
      "cell_type": "code",
      "source": [
        "fig2 = px.bar(sentiment_analysis_melt3,x='Genres',y='count',color='Sentiment',title='Sentiment Analysis on each Genres',width=2000,height=600)\n",
        "fig2.show()"
      ],
      "metadata": {
        "id": "1QM9zbSOdWmZ"
      },
      "execution_count": null,
      "outputs": []
    },
    {
      "cell_type": "markdown",
      "source": [
        "2. Genres action got highest positve sentiments 4003, negative 1985 while neutral is 291."
      ],
      "metadata": {
        "id": "CMfpPTm25j-H"
      }
    },
    {
      "cell_type": "code",
      "source": [
        "plt.figure(figsize=(25,7))\n",
        "sns.lineplot(data=sentiment_analysis_melt3, x=\"Genres\", y=\"count\", hue=\"Sentiment\",palette=['#FF3030','#4B0082','#C6E2FF'])\n",
        "plt.grid(True)\n",
        "plt.xticks(rotation = 90)"
      ],
      "metadata": {
        "id": "mPEA8v0JeKVm"
      },
      "execution_count": null,
      "outputs": []
    },
    {
      "cell_type": "code",
      "source": [
        "apps_users_df.head(4)"
      ],
      "metadata": {
        "id": "4NmA1uxhhyUB"
      },
      "execution_count": null,
      "outputs": []
    },
    {
      "cell_type": "code",
      "source": [
        "sentiment_analysis2_df4 = pd.DataFrame (apps_users_df.groupby (['Android Ver','Sentiment'])['Android Ver'].count().unstack())\n",
        "sentiment_analysis2_df4"
      ],
      "metadata": {
        "id": "OfX6185-l65-"
      },
      "execution_count": null,
      "outputs": []
    },
    {
      "cell_type": "code",
      "source": [
        "sentiment_analysis2_df4.reset_index(inplace=True)\n",
        "\n",
        "sentiment_analysis_melt4 = sentiment_analysis2_df4.melt (id_vars=['Android Ver'],\n",
        "                                                         var_name='Sentiment',\n",
        "                                                         value_name='count')\n",
        "sentiment_analysis_melt4"
      ],
      "metadata": {
        "id": "c9s-sy5Amhto"
      },
      "execution_count": null,
      "outputs": []
    },
    {
      "cell_type": "code",
      "source": [
        "plt.figure(figsize=(19,7))\n",
        "sns.lineplot(data=sentiment_analysis_melt4, x=\"Android Ver\", y=\"count\", hue=\"Sentiment\")\n",
        "plt.grid(True)\n",
        "plt.xticks(rotation = 90)"
      ],
      "metadata": {
        "id": "0KwZ5gPJmP8C"
      },
      "execution_count": null,
      "outputs": []
    },
    {
      "cell_type": "code",
      "source": [
        "sns.catplot(data=sentiment_analysis_melt4, x=\"Android Ver\", y=\"count\", hue=\"Sentiment\",path_effects=[path_effects.SimplePatchShadow(),path_effects.Normal()] ,kind=\"bar\",height=4, aspect=3,palette=['#FF3030','#4B0082','#C6E2FF'])"
      ],
      "metadata": {
        "id": "x9vHcYy2nuMp"
      },
      "execution_count": null,
      "outputs": []
    },
    {
      "cell_type": "markdown",
      "source": [
        "3. Andriod ver 4 got the highest number of positive sentiments 31962, negative sentiments 13082 and it also got neutral counts as 5549"
      ],
      "metadata": {
        "id": "5F-zkZuI57jA"
      }
    },
    {
      "cell_type": "code",
      "source": [
        "sentiment_analysis2_df5 = pd.DataFrame (apps_users_df.groupby (['Current Ver','Sentiment'])['Current Ver'].count().unstack())"
      ],
      "metadata": {
        "id": "a_ZFBULTsRdv"
      },
      "execution_count": null,
      "outputs": []
    },
    {
      "cell_type": "code",
      "source": [
        "sentiment_analysis2_df5.reset_index(inplace=True)\n",
        "\n",
        "sentiment_analysis_melt5 = sentiment_analysis2_df5.melt (id_vars=['Current Ver'],\n",
        "                                                         var_name='Sentiment',\n",
        "                                                         value_name='count')\n",
        "sentiment_analysis_melt5"
      ],
      "metadata": {
        "id": "v2EpPcga1hxY"
      },
      "execution_count": null,
      "outputs": []
    },
    {
      "cell_type": "code",
      "source": [
        "plt.figure(figsize=(19,7))\n",
        "sns.lineplot(data=sentiment_analysis_melt5, x=\"Current Ver\", y=\"count\", hue=\"Sentiment\",palette=['#8EE5EE','#68228B','#009ACD'])\n",
        "plt.grid(True)\n",
        "plt.xticks(rotation = 90)"
      ],
      "metadata": {
        "id": "zIghFUKs1zsb"
      },
      "execution_count": null,
      "outputs": []
    },
    {
      "cell_type": "code",
      "source": [
        "plt.figure(figsize=(19,7))\n",
        "sns.pointplot(data=sentiment_analysis_melt5, x=\"Current Ver\", y=\"count\", hue=\"Sentiment\",dodge=True)\n",
        "plt.grid(True)\n",
        "plt.xticks(rotation = 90)"
      ],
      "metadata": {
        "id": "nWflPJz53Z2f"
      },
      "execution_count": null,
      "outputs": []
    },
    {
      "cell_type": "markdown",
      "source": [
        "4. Current ver 1 got the highest positive sentiments 19159 ,negative sentiments around 6838 and neutral around 3104"
      ],
      "metadata": {
        "id": "L0NWAja66nsd"
      }
    },
    {
      "cell_type": "code",
      "source": [
        "sentiment_analysis2_df6 = pd.DataFrame (apps_users_df.groupby (['Content Rating','Sentiment'])['Content Rating'].count().unstack())\n",
        "sentiment_analysis2_df6"
      ],
      "metadata": {
        "id": "7VKrPKHhdFo6"
      },
      "execution_count": null,
      "outputs": []
    },
    {
      "cell_type": "code",
      "source": [
        "sentiment_analysis2_df6.reset_index(inplace=True)\n",
        "\n",
        "sentiment_analysis_melt6 = sentiment_analysis2_df6.melt (id_vars=['Content Rating'],\n",
        "                                                         var_name='Sentiment',\n",
        "                                                         value_name='count')\n",
        "sentiment_analysis_melt6"
      ],
      "metadata": {
        "id": "ogfL8BDzdXll"
      },
      "execution_count": null,
      "outputs": []
    },
    {
      "cell_type": "code",
      "source": [
        "plt.figure(figsize=(19,7))\n",
        "sns.lineplot(data=sentiment_analysis_melt6, x=\"Content Rating\", y=\"count\", hue=\"Sentiment\")\n",
        "plt.grid(True)\n",
        "plt.xticks(rotation = 90)"
      ],
      "metadata": {
        "id": "vV_3-Uusdy3R"
      },
      "execution_count": null,
      "outputs": []
    },
    {
      "cell_type": "code",
      "source": [
        "sns.catplot(data=sentiment_analysis_melt6, x=\"Content Rating\", y=\"count\", hue=\"Sentiment\",path_effects=[path_effects.SimplePatchShadow(),path_effects.Normal()],palette=['#8EE5EE','#68228B','#009ACD'] ,kind=\"bar\",height=4, aspect=3)"
      ],
      "metadata": {
        "id": "oASE_CMPe2w4"
      },
      "execution_count": null,
      "outputs": []
    },
    {
      "cell_type": "markdown",
      "source": [
        "5. Everyone (content rating type) got the maximum positive 28847 , negative  11269  and neutral 5097 sentiments\n"
      ],
      "metadata": {
        "id": "FgpnzG927T6c"
      }
    },
    {
      "cell_type": "markdown",
      "source": [
        "##### 1. Why did you pick the specific chart?"
      ],
      "metadata": {
        "id": "ylSl6qgtp1ck"
      }
    },
    {
      "cell_type": "markdown",
      "source": [
        "Here i have used many graphs, countplot,barplot,linegraph,bargraph and linelplot to know the count and trend of the feature.."
      ],
      "metadata": {
        "id": "m2xqNkiQp1ck"
      }
    },
    {
      "cell_type": "markdown",
      "source": [
        "##### 2. What is/are the insight(s) found from the chart?"
      ],
      "metadata": {
        "id": "ZWILFDl5p1ck"
      }
    },
    {
      "cell_type": "markdown",
      "source": [
        "1. Category game got the highest number of sentiments for positive it is 9.98k, negative 6542 and neutral is around 748.. \n",
        "2. Genres action got highest positve sentiments 4003, negative 1985 while neutral is 291.\n",
        "3. Andriod ver 4 got the highest number of positive sentiments 31962, negative sentiments 13082 and it also got neutral counts as 5549\n",
        "4. Current ver 1 got the highest positive sentiments 19159 ,negative sentiments \n",
        " around 6838 and neutral around 3104\n",
        "5. Everyone (content rating type) got the maximum positive 28847 , negative  11269  and neutral 5097 sentiments"
      ],
      "metadata": {
        "id": "x-lUsV2mp1ck"
      }
    },
    {
      "cell_type": "markdown",
      "source": [
        "##### 3. Will the gained insights help creating a positive business impact? \n",
        "Are there any insights that lead to negative growth? Justify with specific reason."
      ],
      "metadata": {
        "id": "M7G43BXep1ck"
      }
    },
    {
      "cell_type": "markdown",
      "source": [
        "Game category and action genre got the highest sentiments so we can see action games are high in demand and those negative sentiments ca also be removed by working on the reviews of the people."
      ],
      "metadata": {
        "id": "5wwDJXsLp1cl"
      }
    },
    {
      "cell_type": "markdown",
      "source": [
        "#### Chart - 13"
      ],
      "metadata": {
        "id": "Ag9LCva-p1cl"
      }
    },
    {
      "cell_type": "code",
      "source": [
        "# Chart - 13 visualization code"
      ],
      "metadata": {
        "id": "EUfxeq9-p1cl"
      },
      "execution_count": null,
      "outputs": []
    },
    {
      "cell_type": "code",
      "source": [
        "apps_users_df.sample(4)"
      ],
      "metadata": {
        "id": "YPCywUUYbxOt"
      },
      "execution_count": null,
      "outputs": []
    },
    {
      "cell_type": "code",
      "source": [
        "app_df1 = pd.DataFrame (apps_users_df.groupby(['Category'])['Translated_Review'].count().reset_index(), )\n",
        "app_df1"
      ],
      "metadata": {
        "id": "Lid6NGJvnaoy"
      },
      "execution_count": null,
      "outputs": []
    },
    {
      "cell_type": "code",
      "source": [
        "fig,ax=plt.subplots(figsize=(20,7))\n",
        "ax=sns.barplot(data=app_df1,x='Category',y='Translated_Review',path_effects=[path_effects.SimplePatchShadow(),path_effects.Normal()], ci=None,palette = ['#7FFFD4','#0000FF','#76EEC6'] )\n",
        "ax.set_title('Which category got maximum Translated_Review', fontsize=18)\n",
        "for bar in ax.patches:\n",
        "    ax.annotate(format(bar.get_height(), '.2f'),\n",
        "                   (bar.get_x() + bar.get_width() / 2,\n",
        "                    bar.get_height()), ha='center', va='center',\n",
        "                   size=6, xytext=(0, 8),\n",
        "                   textcoords='offset points')\n",
        "\n",
        "plt.xticks(rotation = 90)\n",
        "plt.show()"
      ],
      "metadata": {
        "id": "5eWOri-ooUDs"
      },
      "execution_count": null,
      "outputs": []
    },
    {
      "cell_type": "markdown",
      "source": [
        "1. Game got the highest number of translated review which is 17270 while the lowest is for comics around 80"
      ],
      "metadata": {
        "id": "lB8NYpX_Qm5t"
      }
    },
    {
      "cell_type": "code",
      "source": [
        "app_df2 = pd.DataFrame (apps_users_df.groupby(['Genres'])['Translated_Review'].count().reset_index(), )\n",
        "app_df2"
      ],
      "metadata": {
        "id": "vamOIRJ0ouvC"
      },
      "execution_count": null,
      "outputs": []
    },
    {
      "cell_type": "code",
      "source": [
        "fig,ax=plt.subplots(figsize=(20,7))\n",
        "ax=sns.barplot(data=app_df2,x='Genres',y='Translated_Review',path_effects=[path_effects.SimplePatchShadow(),path_effects.Normal()], ci=None,palette = ['#76EE00','#0000FF','#0000EE'] )\n",
        "ax.set_title('Which Genres got maximum Translated_Review', fontsize=18)\n",
        "for bar in ax.patches:\n",
        "    ax.annotate(format(bar.get_height(), '.2f'),\n",
        "                   (bar.get_x() + bar.get_width() / 2,\n",
        "                    bar.get_height()), ha='center', va='center',\n",
        "                   size=6, xytext=(0, 8),\n",
        "                   textcoords='offset points')\n",
        "    plt.xticks(rotation = 90)"
      ],
      "metadata": {
        "id": "icdJUAVrp3B7"
      },
      "execution_count": null,
      "outputs": []
    },
    {
      "cell_type": "markdown",
      "source": [
        "2. Genre action got the highest reviews traslated around 6279 while the lowest is educational:brain games which is 3"
      ],
      "metadata": {
        "id": "32GyJywwQ5jJ"
      }
    },
    {
      "cell_type": "code",
      "source": [
        "app_df3 = pd.DataFrame (apps_users_df.groupby(['Content Rating'])['Translated_Review'].count().reset_index(), )\n",
        "app_df3"
      ],
      "metadata": {
        "id": "SHrv_vcNqfbi"
      },
      "execution_count": null,
      "outputs": []
    },
    {
      "cell_type": "code",
      "source": [
        "fig,ax=plt.subplots(figsize=(20,7))\n",
        "ax=sns.barplot(data=app_df3,x='Content Rating',y='Translated_Review',path_effects=[path_effects.SimplePatchShadow(),path_effects.Normal()], ci=None,palette = ['#76EE00','#0000FF','#0000EE'] )\n",
        "ax.set_title('Which People category gave maximum Translated_Review', fontsize=18)\n",
        "\n",
        "for bar in ax.patches:\n",
        "    ax.annotate(format(bar.get_height(), '.2f'),\n",
        "                   (bar.get_x() + bar.get_width() / 2,\n",
        "                    bar.get_height()), ha='center', va='center',\n",
        "                   size=10, xytext=(0, 8),\n",
        "                   textcoords='offset points')\n",
        "    plt.xticks(rotation = 90)"
      ],
      "metadata": {
        "id": "flHtZEh3qzTV"
      },
      "execution_count": null,
      "outputs": []
    },
    {
      "cell_type": "markdown",
      "source": [
        "3. Everyone got the maximum transalted review around 45213"
      ],
      "metadata": {
        "id": "SEXhnBIFRMRW"
      }
    },
    {
      "cell_type": "markdown",
      "source": [
        "##### 1. Why did you pick the specific chart?"
      ],
      "metadata": {
        "id": "E6MkPsBcp1cl"
      }
    },
    {
      "cell_type": "markdown",
      "source": [
        "Here i have used barplot to know the count of the reviews of the people."
      ],
      "metadata": {
        "id": "V22bRsFWp1cl"
      }
    },
    {
      "cell_type": "markdown",
      "source": [
        "##### 2. What is/are the insight(s) found from the chart?"
      ],
      "metadata": {
        "id": "2cELzS2fp1cl"
      }
    },
    {
      "cell_type": "markdown",
      "source": [
        "1. Game got the highest number of translated review which is 17270 while the lowest is for comics around 80\n",
        "2. Genre action got the highest reviews traslated around 6279 while the lowest is educational:brain games which is 3\n",
        "3. Everyone got the maximum transalted review around 45213"
      ],
      "metadata": {
        "id": "ozQPc2_Ip1cl"
      }
    },
    {
      "cell_type": "markdown",
      "source": [
        "##### 3. Will the gained insights help creating a positive business impact? \n",
        "Are there any insights that lead to negative growth? Justify with specific reason."
      ],
      "metadata": {
        "id": "3MPXvC8up1cl"
      }
    },
    {
      "cell_type": "markdown",
      "source": [
        "Makers need to see the negative reviews and make the necessary updates in the required apps."
      ],
      "metadata": {
        "id": "GL8l1tdLp1cl"
      }
    },
    {
      "cell_type": "markdown",
      "source": [
        "#### Chart - 14 - Correlation Heatmap"
      ],
      "metadata": {
        "id": "NC_X3p0fY2L0"
      }
    },
    {
      "cell_type": "code",
      "source": [
        "# Correlation Heatmap visualization code"
      ],
      "metadata": {
        "id": "xyC9zolEZNRQ"
      },
      "execution_count": null,
      "outputs": []
    },
    {
      "cell_type": "code",
      "source": [
        "corr = apps_users_df.corr()\n",
        "corr.style.background_gradient(cmap='ocean')"
      ],
      "metadata": {
        "id": "BzUOQucVkmsP"
      },
      "execution_count": null,
      "outputs": []
    },
    {
      "cell_type": "code",
      "source": [
        "apps_users_df.skew()"
      ],
      "metadata": {
        "id": "lC4kbG-NEToy"
      },
      "execution_count": null,
      "outputs": []
    },
    {
      "cell_type": "markdown",
      "source": [
        "##### 1. Why did you pick the specific chart?"
      ],
      "metadata": {
        "id": "UV0SzAkaZNRQ"
      }
    },
    {
      "cell_type": "markdown",
      "source": [
        "Heatmap are best graph to see the correlation between the features..\n",
        "Heatmaps are also a lot more visual than standard analytics reports, which can make them easier to analyze at a glance. This makes them more accessible, particularly to people who are not accustomed to analyzing large amounts of data."
      ],
      "metadata": {
        "id": "DVPuT8LYZNRQ"
      }
    },
    {
      "cell_type": "markdown",
      "source": [
        "##### 2. What is/are the insight(s) found from the chart?"
      ],
      "metadata": {
        "id": "YPEH6qLeZNRQ"
      }
    },
    {
      "cell_type": "markdown",
      "source": [
        "Reviews affect the number of installs"
      ],
      "metadata": {
        "id": "bfSqtnDqZNRR"
      }
    },
    {
      "cell_type": "markdown",
      "source": [
        "#### Chart - 15 - Pair Plot "
      ],
      "metadata": {
        "id": "q29F0dvdveiT"
      }
    },
    {
      "cell_type": "code",
      "source": [
        "# Pair Plot visualization code"
      ],
      "metadata": {
        "id": "o58-TEIhveiU"
      },
      "execution_count": null,
      "outputs": []
    },
    {
      "cell_type": "code",
      "source": [
        "sns.pairplot(apps_users_df, hue=\"Type\")"
      ],
      "metadata": {
        "id": "wmwO_RIblVwM"
      },
      "execution_count": null,
      "outputs": []
    },
    {
      "cell_type": "markdown",
      "source": [
        "##### 1. Why did you pick the specific chart?"
      ],
      "metadata": {
        "id": "EXh0U9oCveiU"
      }
    },
    {
      "cell_type": "markdown",
      "source": [
        "Pair plot is used to understand the best set of features to explain a relationship between two variables or to form the most separated clusters. It also helps to form some simple classification models by drawing some simple lines or make linear separation in our data-set"
      ],
      "metadata": {
        "id": "eMmPjTByveiU"
      }
    },
    {
      "cell_type": "markdown",
      "source": [
        "##### 2. What is/are the insight(s) found from the chart?"
      ],
      "metadata": {
        "id": "22aHeOlLveiV"
      }
    },
    {
      "cell_type": "markdown",
      "source": [
        "Most of the apps are free in the datasets."
      ],
      "metadata": {
        "id": "uPQ8RGwHveiV"
      }
    },
    {
      "cell_type": "markdown",
      "source": [
        "## **5. Solution to Business Objective**"
      ],
      "metadata": {
        "id": "JcMwzZxoAimU"
      }
    },
    {
      "cell_type": "markdown",
      "source": [
        "#### What do you suggest the client to achieve Business Objective ? \n",
        "Explain Briefly."
      ],
      "metadata": {
        "id": "8G2x9gOozGDZ"
      }
    },
    {
      "cell_type": "markdown",
      "source": [
        " We can see the Category of apps that are most downloaded is of the family so makers should produce more apps in this category and it can also create a good revenue by putting ads in the apps.. too Tops Genres performing well of Tools we can make use of this Genre for business but the fact is that action got the highest rating count ... people generally prefer action which can be seen from the data so we need to add more action-packed apps.. and the most shocking observation is Communication Genre has the most number of installs... we can use add more apps in communication genre. We can clearly see that people prefer to download free apps more than paid apps so makers so try to make mostly free apps..people have nearly given reviews to all the apps whose ratings exceed 4 so it will help the maker to improve those apps ... and make the necessary updates. People prefer to download the app which is low in size.As the number of phone users is increasing as we see the apps requirement also increasing so makers have to keep their apps up to date and keep on adding more and more updates so that people stick to the apps .. and more importantly they have to see the apps are not paid or their price are relatively low. People do prefer apps as we can see they have relatively download apps in billions. In that most Teens have downloaded the apps more so makers have to make apps teens friendly. People don't like to pay for the app so makers should try to make free apps more as compared to paid apps. People are loving Andriod ver 4 and currently, people are using 1 as the most ver on their phones...so accordingly makers should manage the production of apps in these two types of ver. People who have used the apps have enjoyed and given more positive reviews and there as some negative reviews, so the makers should consider their reviews and make the necessary updates. Most people downloaded free apps so makers should keep the price of the app low or keep it free.  Game category and action genre got the highest sentiments so we can see action games are high in demand and those negative sentiments can also be removed by working on the reviews of the people. Makers need to see the negative reviews and make the necessary updates in the required apps. Reviews affect the number of installs. Most of the apps are free in the datasets."
      ],
      "metadata": {
        "id": "pASKb0qOza21"
      }
    },
    {
      "cell_type": "markdown",
      "source": [
        "# **Conclusion**"
      ],
      "metadata": {
        "id": "gCX9965dhzqZ"
      }
    },
    {
      "cell_type": "markdown",
      "source": [
        "**Here are the things that we concluded while doing our project**\n",
        "\n",
        "1. Top Category to be downloaded is Family 1717 and following the lowest to \n",
        "be of Beauty 42.\n",
        "2. Family got the highest number of the unpaid users while the count of the paid users is also high for family category.\n",
        "3.  Averagely, all the categories got a rating of 4 and above...\n",
        "4. Social is the category that got the maximum review which is 2186788 and the event got the lowest 35875.\n",
        "5. Family is the category which has the highest no. unpaid apps to be downloaded it is 1560 while the count for paid apps is 157 the lowest category is beauty, event and parenting.\n",
        "6.  Mostly the maximum number of content to be downloaded is for too tools category and more than 80% of the apps are free which is 670 while the count for paid is 63 only.\n",
        "7. Maximum number of installs happening in the communication category it is nearly 78671796 while the lowest happens for medical 139611.\n",
        "8. Top Genres in the given data is Tools(count of 732) and the lowest is racing(count of 93).\n",
        "9. Tools are the given genre that has more paid as well as unpaid customers in accordance of buying app from play store...while the lowest are many as of such is puzzle:education nearly it is 0.\n",
        "10. Action got the highest rating counts around 349 in all aspects while the lowest one is Word which got barely 27.\n",
        "11. Adventure;Action& Adventure Genre got the maximum reviews around 3087739.\n",
        "12. Tools genre has the highest number of unpaid customers(669) whereas the paid customers are nearly equal for Medical(64),Personalization(65) and Tools(63) genres.\n",
        "13. Tools are the genres that are downloaded the most by people and subsequently the size of the downloaded content in the dataset following entertainment and then education.\n",
        "14. Communication Genre got the maximum number of installs around 7861796.5 which is huge.\n",
        "15. Nearly the entire dataset has the data of people who didn't pay anything for the app nearly 93.1% whereas 6.9% only have downloaded paid apps.\n",
        "16. The count for the unpaid apps is 8275 whereas for paid it is barely 611 people.\n",
        "17. Nearly average rating in the dataset is 4.5 but the count is huge (1187391) and nearly 2 people have given the average lowest rating of 1.0.\n",
        "18. 2010 is the only year that got only 1 review for a rating of 4.2 whereas the graph went on increasing from 2010 to 2018.\n",
        "19. July month got the highest no of reviews 369 for an average rating of 4.4.\n",
        "20. People preference is small size of application the count for 1 MB size is 1472 whereas it keeps on decreasing as the size of the app increases.\n",
        "21. In 2010 applications downloaded were 100000 whereas as the year moved it went on increasing and in 2018 it nearly touched 105 Billion downloads. \n",
        "22. Nearly 68.6% of the apps are downloaded in 2018 and 16.4% in 2017 which we can see and boost in downloads\n",
        "23. But the scenario is all the apps are free to count to be 24134270 and barely people paid for the apps count to be 192375 ..........\n",
        "24. July is the month in which maximum downloads took place and the count is 67 Billion approx. and then a downfall happens went on to 57.27 Billion. going nearly to 1.14 Billion in December.\n",
        "25. In August month no. for free apps downloaded by people hit all-time high of 44360389 whereas for paid it was just 87172 and the lowest was in September with (1843326,13184).\n",
        "26. The highest content rating is given by the Everyone category (100.222 Billion) whereas the lowest was from the unrated category (50 Thousand).\n",
        "27. Nealy 8275 apps prices were kept at 0.. whereas as the prices were added to the apps the number of d1. Currently, people are using 1 the most around 4687 and the number goes on decreasing version0 around 1000 installs and the count of 4 people.\n",
        "28. 1 got the maximum installs around 103.58 billion and can be clearly seen as the most preferred current version to be used.\n",
        "29. Currently people are using 1 the most around 4687 and the number goes on decreasing version0 around 1000 installs and the count of 4 people.\n",
        "30. 1 got the maximum installs of around 103.58 billion and can be clearly seen as the most prefered current version to be used.\n",
        "31. Andriod ver 4 got the maximum number of installs around 139.4069 billion whereas the lowest is for version 8 around 1.51 millions.\n",
        "32. Nearly 76.3% of the installs happened for ver 4 and then the lowest for ver 8 around 0.1%.\n",
        "33. Android ver apps got the maximum download and 21692710 were unpiad apps while 148539 were the paid apps...\n",
        "34. Our sentiment_subjectivity is more between 0.4 to 0.6.\n",
        "35. positive review  is around 64.11%, negative reviews  are around 22.099% and neutral is around 13.781% in our dataset.\n",
        "36. Positive reviews count as 23998 while negative is around 8271 neutral falls at 5158.\n",
        "37. Nearly Sentiment polarity for the free apps is around 99% and for paid it can be seen at around 1%.\n",
        "38. Category game got the highest number of sentiments for positive it is 9.98k, negative 6542 and neutral is around 748.. \n",
        "39. Genres action got the highest posiitve sentiments 4003, negative 1985 while neutral is 291.\n",
        "40. Andriod ver 4 got the highest number of positive sentiments 31962, negative sentiments 13082 and it also got neutral counts as 5549.\n",
        "41. Current ver 1 got the highest positive sentiments 19159,negative sentiments \n",
        " around 6838 and neutral around 3104.\n",
        "42. Everyone (content rating type) got the maximum positive 28847, negative  11269  and neutral 5097 sentiments.\n",
        "43. Game got the highest number of translated reviews which is 17270 while the lowest is for comics around 80.\n",
        "44. Genre action got the highest reviews translated around 6279 while the lowest is educational:brain games which is 3.\n",
        "45. Everyone got the maximum translated reviews of around 45213.\n",
        "\n",
        "**Evenly we can conclude that people don't like to pay for the apps so the makers have to keep most of the apps free**\n"
      ],
      "metadata": {
        "id": "Fjb1IsQkh3yE"
      }
    },
    {
      "cell_type": "markdown",
      "source": [
        "### ***Hurrah! You have successfully completed your EDA Capstone Project !!!***"
      ],
      "metadata": {
        "id": "gIfDvo9L0UH2"
      }
    }
  ]
}